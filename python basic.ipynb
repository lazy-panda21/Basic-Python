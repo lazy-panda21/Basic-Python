{
 "cells": [
  {
   "cell_type": "code",
   "execution_count": 2,
   "metadata": {},
   "outputs": [
    {
     "name": "stdout",
     "output_type": "stream",
     "text": [
      "Hello\n"
     ]
    }
   ],
   "source": [
    "#1.Write a statement(WAS) to print “Hello World” by using shell\n",
    "print(\"Hello\")"
   ]
  },
  {
   "cell_type": "code",
   "execution_count": null,
   "metadata": {},
   "outputs": [],
   "source": [
    "#2.WAS to print “Hello world” by using python print function\n",
    "print(\"Hello\")"
   ]
  },
  {
   "cell_type": "code",
   "execution_count": null,
   "metadata": {},
   "outputs": [],
   "source": [
    "#3.WAS to initialize variable and value as 50.\n",
    "a = 50\n",
    "print(a)"
   ]
  },
  {
   "cell_type": "code",
   "execution_count": 3,
   "metadata": {},
   "outputs": [
    {
     "name": "stdout",
     "output_type": "stream",
     "text": [
      "10 20 30\n",
      "[10, 20, 30]\n"
     ]
    }
   ],
   "source": [
    "#4.WAS to initialize multivariable value are 150,120,250(take your own variable names)\n",
    "a,b,c = 10,20,30 \n",
    "var = [10,20,30]\n",
    "print(a,b,c)\n",
    "print(var)"
   ]
  },
  {
   "cell_type": "code",
   "execution_count": 5,
   "metadata": {},
   "outputs": [
    {
     "name": "stdout",
     "output_type": "stream",
     "text": [
      "<class 'str'>\n"
     ]
    }
   ],
   "source": [
    "#5.WAS to print the type of the data in the given value.\n",
    "a = \"helloworld\"\n",
    "print(type(a))"
   ]
  },
  {
   "cell_type": "code",
   "execution_count": 6,
   "metadata": {},
   "outputs": [
    {
     "name": "stdout",
     "output_type": "stream",
     "text": [
      "140723791389768\n",
      "140723791389768\n"
     ]
    }
   ],
   "source": [
    "#6.WAS to print the address of the memory block in given value.\n",
    "a = 10\n",
    "print(id(a))\n",
    "print(id(10))"
   ]
  },
  {
   "cell_type": "code",
   "execution_count": 13,
   "metadata": {},
   "outputs": [
    {
     "name": "stdout",
     "output_type": "stream",
     "text": [
      "Revanth\n"
     ]
    }
   ],
   "source": [
    "#7.WAS to print your details, first store your details, extract the values and display it.\n",
    "my_details = {\"name\":'Revanth',\"Batch\":\"M1\",\"Language\":\"python\",\"Timings\":\"10:30 to 12:30\"}\n",
    "print(my_details[\"name\"])"
   ]
  },
  {
   "cell_type": "code",
   "execution_count": 14,
   "metadata": {},
   "outputs": [
    {
     "name": "stdout",
     "output_type": "stream",
     "text": [
      "a = 10\n",
      "b = 20\n",
      "a = 20\n",
      "b = 10\n"
     ]
    }
   ],
   "source": [
    "#8.WAS to swap the two values. With a temp variable.\n",
    "a = 10\n",
    "b = 20\n",
    "print(\"a =\",a)\n",
    "print(\"b =\",b)\n",
    "temp = a\n",
    "a = b\n",
    "b = temp\n",
    "print(\"a =\",a)\n",
    "print(\"b =\",b)"
   ]
  },
  {
   "cell_type": "code",
   "execution_count": 15,
   "metadata": {},
   "outputs": [
    {
     "name": "stdout",
     "output_type": "stream",
     "text": [
      "a = 10\n",
      "b = 20\n",
      "a = 20\n",
      "b = 10\n"
     ]
    }
   ],
   "source": [
    "#9.WAS to swap the two values without temp variable\n",
    "a = 10\n",
    "b = 20\n",
    "print(\"a =\",a)\n",
    "print(\"b =\",b)\n",
    "a,b = b,a\n",
    "print(\"a =\",a)\n",
    "print(\"b =\",b)\n"
   ]
  },
  {
   "cell_type": "code",
   "execution_count": 16,
   "metadata": {},
   "outputs": [
    {
     "name": "stdout",
     "output_type": "stream",
     "text": [
      "10\n",
      "30\n"
     ]
    }
   ],
   "source": [
    "#10.WAS to initialize a value and print the value, after print then reinitialize the new value\n",
    "#to the existing variable and display the value.\n",
    "a = 10\n",
    "print(a)\n",
    "a = 30\n",
    "print(a)"
   ]
  },
  {
   "cell_type": "code",
   "execution_count": 18,
   "metadata": {},
   "outputs": [
    {
     "name": "stdout",
     "output_type": "stream",
     "text": [
      "['1', '0']\n"
     ]
    }
   ],
   "source": [
    "#11.WAS to convert single to multi value data type\n",
    "#I/p ⇒ a=10\n",
    "#o/p ⇒ [‘1’,’0’]\n",
    "a = '10'\n",
    "b = []\n",
    "b += a\n",
    "print(b)"
   ]
  },
  {
   "cell_type": "code",
   "execution_count": 24,
   "metadata": {},
   "outputs": [
    {
     "name": "stdout",
     "output_type": "stream",
     "text": [
      "Concatination of 2 strings = helloworld\n",
      "concatination of 2 lists = [10, 20, 30, 40, 50, 60, 70, 80]\n",
      "concatination of 2 tuples = (10, 20, 30, 40, 50, 60)\n",
      "{'a': 20, 'b': 20, 'c': 30, 'd': 40}\n"
     ]
    }
   ],
   "source": [
    "#12.WAS to concat the two multi value data types(str , list, tuple, dict).\n",
    "str1 = \"hello\"\n",
    "str2 = \"world\"\n",
    "print(\"Concatination of 2 strings =\",str1 + str2)\n",
    "list1 = [10,20,30,40]\n",
    "list2 = [50,60,70,80]\n",
    "print(\"concatination of 2 lists =\",list1 + list2)\n",
    "tuple1 = (10,20,30)\n",
    "tuple2 = (40,50,60)\n",
    "print(\"concatination of 2 tuples =\",tuple1 + tuple2)\n",
    "dict1 = {'a':20,'b':20,'c':30}\n",
    "dict1['d'] = 40\n",
    "print(dict1)"
   ]
  },
  {
   "cell_type": "code",
   "execution_count": 1,
   "metadata": {},
   "outputs": [
    {
     "name": "stdout",
     "output_type": "stream",
     "text": [
      "6\n"
     ]
    }
   ],
   "source": [
    "#13.WAC to perform  the length of the collection.\n",
    "a = [1,12,123,'abcd',(99,88,77),{456,678,890}]\n",
    "print(len(a))"
   ]
  },
  {
   "cell_type": "code",
   "execution_count": 2,
   "metadata": {},
   "outputs": [
    {
     "name": "stdout",
     "output_type": "stream",
     "text": [
      "30\n"
     ]
    }
   ],
   "source": [
    "#14.WAC to find out the middle value of the given collection.\n",
    "a = [10,20,30,40,50]\n",
    "print(a[len(a)//2])"
   ]
  },
  {
   "cell_type": "code",
   "execution_count": 5,
   "metadata": {},
   "outputs": [
    {
     "name": "stdout",
     "output_type": "stream",
     "text": [
      "worldHello\n"
     ]
    }
   ],
   "source": [
    "#15.WAS to concat the new string into the starting of the given string.\n",
    "a = \"Hello\"\n",
    "b = str(input(\"Enter a string\"))\n",
    "a = b+a\n",
    "print(a)"
   ]
  },
  {
   "cell_type": "code",
   "execution_count": 35,
   "metadata": {},
   "outputs": [
    {
     "name": "stdout",
     "output_type": "stream",
     "text": [
      "helloworlds\n"
     ]
    }
   ],
   "source": [
    "#16.WAS to concat the new string into the ending of the given string.\n",
    "a = \"hello\"\n",
    "b = str(input(\"Enter a string\"))\n",
    "a = a+b\n",
    "print(a)"
   ]
  },
  {
   "cell_type": "code",
   "execution_count": 12,
   "metadata": {},
   "outputs": [
    {
     "name": "stdout",
     "output_type": "stream",
     "text": [
      "hellowto thisorldss\n"
     ]
    }
   ],
   "source": [
    "#17.WAS to concat the new string into the middle of the given string.\n",
    "a = \"helloworldss\"\n",
    "b = \"to this\"\n",
    "a = a[:len(a)//2] + b + a[len(a)//2:]\n",
    "print(a)"
   ]
  },
  {
   "cell_type": "code",
   "execution_count": 6,
   "metadata": {},
   "outputs": [
    {
     "name": "stdout",
     "output_type": "stream",
     "text": [
      "pyspiders\n"
     ]
    }
   ],
   "source": [
    "#18.WAS to replace the old character into a new character of the given string.\n",
    "a = \"hello world\"\n",
    "a = \"pyspiders\"\n",
    "print(a)"
   ]
  },
  {
   "cell_type": "code",
   "execution_count": 7,
   "metadata": {},
   "outputs": [
    {
     "name": "stdout",
     "output_type": "stream",
     "text": [
      "heloworld\n"
     ]
    }
   ],
   "source": [
    "#19.WAS to delete the specific character in the given string.\n",
    "a = \"helloworld\"\n",
    "a = a[:2] + a[3:]\n",
    "print(a)"
   ]
  },
  {
   "cell_type": "code",
   "execution_count": 16,
   "metadata": {},
   "outputs": [
    {
     "name": "stdout",
     "output_type": "stream",
     "text": [
      "pyjavaon\n"
     ]
    }
   ],
   "source": [
    "#20.WAS to concat the new string into the specific position of the given string.\n",
    "x = \"python\"\n",
    "y = \"java\"\n",
    "x = x[:2] + y + x[4:]\n",
    "print(x)"
   ]
  },
  {
   "cell_type": "code",
   "execution_count": 18,
   "metadata": {},
   "outputs": [
    {
     "name": "stdout",
     "output_type": "stream",
     "text": [
      "[40, 10, 20, 30]\n"
     ]
    }
   ],
   "source": [
    "#21.WAS to concat the new value into the starting of the given list.\n",
    "li = [10,20,30]\n",
    "li = [40]+li\n",
    "print(li)"
   ]
  },
  {
   "cell_type": "code",
   "execution_count": 1,
   "metadata": {},
   "outputs": [
    {
     "name": "stdout",
     "output_type": "stream",
     "text": [
      "[10, 20, 30, 40, 50]\n"
     ]
    }
   ],
   "source": [
    "#22.WAS to concat the new value into the ending of the given list.\n",
    "li= [10,20,30,40]\n",
    "li = li+[50]\n",
    "print(li)"
   ]
  },
  {
   "cell_type": "code",
   "execution_count": 11,
   "metadata": {},
   "outputs": [
    {
     "name": "stdout",
     "output_type": "stream",
     "text": [
      "[10, 20, 45, 30, 40, 50]\n"
     ]
    }
   ],
   "source": [
    "#23.WAS to concat the new value into the middle of the given list.\n",
    "li = [10,20,30,40,50]\n",
    "li[len(li)//2:1] = [45]\n",
    "print(li)"
   ]
  },
  {
   "cell_type": "code",
   "execution_count": 12,
   "metadata": {},
   "outputs": [
    {
     "name": "stdout",
     "output_type": "stream",
     "text": [
      "[10, 20, 30, 40]\n",
      "[10, 20, 33, 40]\n"
     ]
    }
   ],
   "source": [
    "#24.WAS to modify the new value into the specific position of the given list.\n",
    "li = [10,20,30,40]\n",
    "print(li)\n",
    "li[2] = 33\n",
    "print(li)"
   ]
  },
  {
   "cell_type": "code",
   "execution_count": 14,
   "metadata": {},
   "outputs": [
    {
     "name": "stdout",
     "output_type": "stream",
     "text": [
      "[10, 20, 30, 40, 50]\n",
      "[11, 20, 30, 40, 50]\n"
     ]
    }
   ],
   "source": [
    "#25.WAS to modify the new value into the starting of the given list.\n",
    "li = [10,20,30,40,50]\n",
    "print(li)\n",
    "li[0] = 11\n",
    "print(li)\n"
   ]
  },
  {
   "cell_type": "code",
   "execution_count": 15,
   "metadata": {},
   "outputs": [
    {
     "name": "stdout",
     "output_type": "stream",
     "text": [
      "['a', 'b', 'c', 'd']\n",
      "['a', 'b', 'c', 'f']\n"
     ]
    }
   ],
   "source": [
    "#26.WAS to modify the new value into the ending of the given list.\n",
    "li = ['a','b','c','d']\n",
    "print(li)\n",
    "li[-1] = 'f'\n",
    "print(li)"
   ]
  },
  {
   "cell_type": "code",
   "execution_count": 18,
   "metadata": {},
   "outputs": [
    {
     "name": "stdout",
     "output_type": "stream",
     "text": [
      "[1, 2, 3, 4]\n",
      "[1, 2, 6, 3, 4]\n"
     ]
    }
   ],
   "source": [
    "#27.WAS to modify the new value into the middle of the given  list.\n",
    "li = [1,2,3,4]\n",
    "print(li)\n",
    "li[len(li)//2:1] = [6]\n",
    "print(li)"
   ]
  },
  {
   "cell_type": "code",
   "execution_count": 19,
   "metadata": {},
   "outputs": [
    {
     "name": "stdout",
     "output_type": "stream",
     "text": [
      "['a', 'b', 'c', 'd', 'e', 'f', 'g', 'h']\n",
      "['x', 'y', 'z', 'w', 'e', 'f', 'g', 'h']\n"
     ]
    }
   ],
   "source": [
    "#28.WAS to modify the first 4 positions values into a given list.\n",
    "li = ['a','b','c','d','e','f','g','h']\n",
    "print(li)\n",
    "li[0:3+1:1] = ['x','y','z','w']\n",
    "print(li)"
   ]
  },
  {
   "cell_type": "code",
   "execution_count": 34,
   "metadata": {},
   "outputs": [
    {
     "name": "stdout",
     "output_type": "stream",
     "text": [
      "['a', 'b', 'c', 'd', 'e', 'f', 'g', 'h']\n",
      "['a', 'b', 'c', 'e', 'f', 'g', 'h']\n"
     ]
    }
   ],
   "source": [
    "#29.WAS to delete the value in the specific position of the given list.\n",
    "li = ['a','b','c','d','e','f','g','h']\n",
    "print(li)\n",
    "del li[3]\n",
    "print(li)\n"
   ]
  },
  {
   "cell_type": "code",
   "execution_count": 36,
   "metadata": {},
   "outputs": [
    {
     "name": "stdout",
     "output_type": "stream",
     "text": [
      "[10, 20, 30, 40, 50]\n",
      "[10, 20, 30, 40]\n"
     ]
    }
   ],
   "source": [
    "#30.WAS to delete the new value into the ending of the list.\n",
    "li = [10,20,30,40,50]\n",
    "print(li)\n",
    "del li[-1]\n",
    "print(li)"
   ]
  },
  {
   "cell_type": "code",
   "execution_count": 37,
   "metadata": {},
   "outputs": [
    {
     "name": "stdout",
     "output_type": "stream",
     "text": [
      "[10, 20, 40, 50]\n"
     ]
    }
   ],
   "source": [
    "#31.WAS to delete the new value into the middle of the list.\n",
    "li = [10,20,30,40,50]\n",
    "del li[len(li)//2]\n",
    "print(li)"
   ]
  },
  {
   "cell_type": "code",
   "execution_count": 39,
   "metadata": {},
   "outputs": [
    {
     "name": "stdout",
     "output_type": "stream",
     "text": [
      "(10, 20, 30, 40)\n",
      "(11, 10, 20, 30, 40)\n"
     ]
    }
   ],
   "source": [
    "#32.WAS to concat the new value into starting of the tuple.\n",
    "tup = (10,20,30,40)\n",
    "print(tup)\n",
    "tup = (11,) + tup\n",
    "print(tup)"
   ]
  },
  {
   "cell_type": "code",
   "execution_count": 55,
   "metadata": {},
   "outputs": [
    {
     "name": "stdout",
     "output_type": "stream",
     "text": [
      "(10, 20, 678, 40, 50)\n"
     ]
    }
   ],
   "source": [
    "#33.WAS to concat the new value into the middle of the tuple.\n",
    "tup = (10,20,30,40,50)\n",
    "#tup = (345,)+ tup + (123,)\n",
    "tup = tup[:2] + (678,) + tup[3:]\n",
    "print(tup)"
   ]
  },
  {
   "cell_type": "code",
   "execution_count": 56,
   "metadata": {},
   "outputs": [
    {
     "name": "stdout",
     "output_type": "stream",
     "text": [
      "(10, 20, 30, 40, 50)\n",
      "(10, 20, 30, 40, 50, 123)\n"
     ]
    }
   ],
   "source": [
    "#34.WAS to concat the new value into the ending of the tuple.\n",
    "tup = (10,20,30,40,50)\n",
    "print(tup)\n",
    "tup = tup + (123,)\n",
    "print(tup)"
   ]
  },
  {
   "cell_type": "code",
   "execution_count": 60,
   "metadata": {},
   "outputs": [
    {
     "name": "stdout",
     "output_type": "stream",
     "text": [
      "{1, 2, 3, 4, 5}\n"
     ]
    },
    {
     "ename": "TypeError",
     "evalue": "unsupported operand type(s) for +: 'set' and 'int'",
     "output_type": "error",
     "traceback": [
      "\u001b[1;31m---------------------------------------------------------------------------\u001b[0m",
      "\u001b[1;31mTypeError\u001b[0m                                 Traceback (most recent call last)",
      "Cell \u001b[1;32mIn[60], line 4\u001b[0m\n\u001b[0;32m      2\u001b[0m s \u001b[39m=\u001b[39m {\u001b[39m1\u001b[39m,\u001b[39m2\u001b[39m,\u001b[39m3\u001b[39m,\u001b[39m4\u001b[39m,\u001b[39m5\u001b[39m}\n\u001b[0;32m      3\u001b[0m \u001b[39mprint\u001b[39m(s)\n\u001b[1;32m----> 4\u001b[0m s \u001b[39m=\u001b[39m s\u001b[39m+\u001b[39;49m\u001b[39m2\u001b[39;49m\n\u001b[0;32m      5\u001b[0m \u001b[39mprint\u001b[39m(s)\n",
      "\u001b[1;31mTypeError\u001b[0m: unsupported operand type(s) for +: 'set' and 'int'"
     ]
    }
   ],
   "source": [
    "#35.WAS to concat the new value into the set.\n",
    "s = {1,2,3,4,5}\n",
    "print(s)\n",
    "s = s + 2\n",
    "print(s)"
   ]
  },
  {
   "cell_type": "code",
   "execution_count": 1,
   "metadata": {},
   "outputs": [
    {
     "name": "stdout",
     "output_type": "stream",
     "text": [
      "{'a': 10, 'b': 20, 'c': 30}\n",
      "{'a': 10, 'b': 20, 'c': 30, 'e': 40}\n"
     ]
    }
   ],
   "source": [
    "#36.WAS to concat the new key and value into the dict.\n",
    "d = {'a':10,'b':20,'c':30}\n",
    "print(d)\n",
    "d['e'] = 40\n",
    "print(d)"
   ]
  },
  {
   "cell_type": "code",
   "execution_count": 3,
   "metadata": {},
   "outputs": [
    {
     "name": "stdout",
     "output_type": "stream",
     "text": [
      "{'a': 10, 'b': 20, 'c': 30}\n",
      "{'b': 20, 'c': 30}\n"
     ]
    }
   ],
   "source": [
    "#37.WAS to delete the specific key and value in the given dict.\n",
    "d = {'a':10,'b':20,'c':30}\n",
    "print(d)\n",
    "del d['a']\n",
    "print(d)"
   ]
  },
  {
   "cell_type": "code",
   "execution_count": null,
   "metadata": {},
   "outputs": [],
   "source": [
    "#38.WAS to delete the set value."
   ]
  },
  {
   "cell_type": "code",
   "execution_count": 4,
   "metadata": {},
   "outputs": [
    {
     "name": "stdout",
     "output_type": "stream",
     "text": [
      "{'a': 10, 'b': 20, 'c': 30, 'e': 40, 'f': 50}\n",
      "{'a': 11, 'b': 20, 'c': 30, 'e': 40, 'f': 50}\n"
     ]
    }
   ],
   "source": [
    "#39.WAS to modify the specific value in the given dict.\n",
    "d = {'a':10,'b':20,'c':30,'e':40,'f':50}\n",
    "print(d)\n",
    "d['a'] = 11\n",
    "print(d)"
   ]
  },
  {
   "cell_type": "code",
   "execution_count": 8,
   "metadata": {},
   "outputs": [
    {
     "name": "stdout",
     "output_type": "stream",
     "text": [
      "list['a', 'b', {'ab', 'bc', 'cd'}]\n",
      "[10, 20, 30, 40, 'hello', 'world', {1, 2, 3, 4}, (123, 'hii'), *list['a', 'b', {'ab', 'bc', 'cd'}]]\n"
     ]
    }
   ],
   "source": [
    "#40.WAS to concat the list value and tuple value by using type casting.\n",
    "li = [10,20,30,40,\"hello\",\"world\",{1,2,3,4},(123,\"hii\")]\n",
    "tup = ('a','b',{\"ab\",\"bc\",\"cd\"})\n",
    "tup = list[tup]\n",
    "print(tup)\n",
    "li += tup\n",
    "print(li)"
   ]
  },
  {
   "cell_type": "code",
   "execution_count": null,
   "metadata": {},
   "outputs": [],
   "source": [
    "#41.WAS to concat the list value and tuple value without using type casting."
   ]
  },
  {
   "cell_type": "code",
   "execution_count": 9,
   "metadata": {},
   "outputs": [
    {
     "name": "stdout",
     "output_type": "stream",
     "text": [
      "True\n"
     ]
    }
   ],
   "source": [
    "#42.WAC to the given number is divisible by 3.\n",
    "x = int(input(\"Enter the value =\"))\n",
    "if x%3 == 0 :\n",
    "    print(\"True\")\n",
    "else:\n",
    "    print(\"False\")"
   ]
  },
  {
   "cell_type": "code",
   "execution_count": 10,
   "metadata": {},
   "outputs": [
    {
     "name": "stdout",
     "output_type": "stream",
     "text": [
      "True\n"
     ]
    }
   ],
   "source": [
    "#43.WAC to the given number is divisible by 2 and 6.\n",
    "x = int(input(\"Enter the value =\"))\n",
    "if x%2 == 0 and x%6 == 0 :\n",
    "    print(\"True\")\n",
    "else:\n",
    "    print(\"False\")"
   ]
  },
  {
   "cell_type": "code",
   "execution_count": 13,
   "metadata": {},
   "outputs": [
    {
     "name": "stdout",
     "output_type": "stream",
     "text": [
      "true\n"
     ]
    }
   ],
   "source": [
    "#44.WAC to the given number, the last digit is divisible by 3. (don&#39;t use typecasting)\n",
    "x = int(input(\"Enter the value =\"))\n",
    "x = x%10\n",
    "if x%3 == 0:\n",
    "    print(\"true\")\n",
    "else:\n",
    "    print(\"False\")"
   ]
  },
  {
   "cell_type": "code",
   "execution_count": 31,
   "metadata": {},
   "outputs": [
    {
     "name": "stdout",
     "output_type": "stream",
     "text": [
      "[1, 2, 3, 4, 5, 6, 7, 89]\n"
     ]
    }
   ],
   "source": [
    "#45.WAC to the last digit of a given number is divisible by 3.(use typecastin\n"
   ]
  },
  {
   "cell_type": "code",
   "execution_count": 34,
   "metadata": {},
   "outputs": [
    {
     "name": "stdout",
     "output_type": "stream",
     "text": [
      "The number is greater than 150\n"
     ]
    }
   ],
   "source": [
    "\n",
    "#46.WAC to the given number is greater than 150.\n",
    "x = int(input(\"Enter the value =\"))\n",
    "if x > 150:\n",
    "    print(\"The number is greater than 150\")\n",
    "else:\n",
    "    print(\"The number is lesser than 150\")\n"
   ]
  },
  {
   "cell_type": "code",
   "execution_count": 35,
   "metadata": {},
   "outputs": [
    {
     "name": "stdout",
     "output_type": "stream",
     "text": [
      "The number is lesser than 100\n"
     ]
    }
   ],
   "source": [
    "#47.WAC to the given number is greater than or equal to 100.\n",
    "x = int(input(\"Enter the value =\"))\n",
    "if x >= 100:\n",
    "    print(\"The number is greater than 100\")\n",
    "else:\n",
    "    print(\"The number is lesser than 100\")\n",
    "\n"
   ]
  },
  {
   "cell_type": "code",
   "execution_count": 38,
   "metadata": {},
   "outputs": [
    {
     "name": "stdout",
     "output_type": "stream",
     "text": [
      "The number is greater than 150 < 23\n"
     ]
    }
   ],
   "source": [
    "#48.WAC to the given number is less than 150, print the result.\n",
    "x = int(input(\"Enter the value =\"))\n",
    "if x < 150:\n",
    "    print(\"The number is greater than 150 >\",x)\n"
   ]
  },
  {
   "cell_type": "code",
   "execution_count": 39,
   "metadata": {},
   "outputs": [
    {
     "name": "stdout",
     "output_type": "stream",
     "text": [
      "The number is greater than 100 > 45\n"
     ]
    }
   ],
   "source": [
    "#49.WAC to the given number is less than or equal to 100.\n",
    "x = int(input(\"Enter the value =\"))\n",
    "if x < 100:\n",
    "    print(\"The number is greater than 100 >\",x)"
   ]
  },
  {
   "cell_type": "code",
   "execution_count": 41,
   "metadata": {},
   "outputs": [
    {
     "name": "stdout",
     "output_type": "stream",
     "text": [
      "True\n"
     ]
    }
   ],
   "source": [
    "#50.WAC to the given number is greater than 15 &amp; less than 24\n",
    "x = int(input(\"Enter the value\"))\n",
    "if 15 < x < 24:\n",
    "    print(\"True\")"
   ]
  },
  {
   "cell_type": "code",
   "execution_count": null,
   "metadata": {},
   "outputs": [],
   "source": [
    "#51.WAC to the given number is even.\n",
    "x = int(input(\"Enter the value =\"))\n",
    "if x%2 == 0:\n",
    "    print(\"Even number =\",x)"
   ]
  },
  {
   "cell_type": "code",
   "execution_count": 43,
   "metadata": {},
   "outputs": [
    {
     "name": "stdout",
     "output_type": "stream",
     "text": [
      "True\n"
     ]
    }
   ],
   "source": [
    "#52.WAC to the given number is odd.\n",
    "x = int(input(\"enter the value\"))\n",
    "if x%2 != 0:\n",
    "    print(\"True\")\n",
    "    "
   ]
  },
  {
   "cell_type": "code",
   "execution_count": 44,
   "metadata": {},
   "outputs": [
    {
     "name": "stdout",
     "output_type": "stream",
     "text": [
      "hello1hello1hello1hello1hello1hello1\n"
     ]
    }
   ],
   "source": [
    "#53.WAC to perform the replication of a given string with 6.\n",
    "str = 'hello1'\n",
    "print(str*6)\n"
   ]
  },
  {
   "cell_type": "code",
   "execution_count": 3,
   "metadata": {},
   "outputs": [
    {
     "name": "stdout",
     "output_type": "stream",
     "text": [
      "True\n"
     ]
    }
   ],
   "source": [
    "#54.WAC to the given number is divisible by 3 and also the number should be greater\n",
    "#than 22.\n",
    "x = int(input(\"Enter the number =\"))\n",
    "if x%3 == 0 and x > 22:\n",
    "    print(\"True\")\n",
    "else:\n",
    "    print(\"False\")"
   ]
  },
  {
   "cell_type": "code",
   "execution_count": 5,
   "metadata": {},
   "outputs": [
    {
     "name": "stdout",
     "output_type": "stream",
     "text": [
      "False\n"
     ]
    }
   ],
   "source": [
    "#55.WAC to perform the length of the collection is even or not.\n",
    "x = \"abcdefghi\"\n",
    "if len(x)%2 == 0 :\n",
    "    print(\"true\")\n",
    "else:\n",
    "    print(\"False\")"
   ]
  },
  {
   "cell_type": "code",
   "execution_count": 8,
   "metadata": {},
   "outputs": [
    {
     "name": "stdout",
     "output_type": "stream",
     "text": [
      "True\n"
     ]
    }
   ],
   "source": [
    "#56.WAC to perform  the length of the collection is less than 55 and greater than 16.\n",
    "a = [10,20,30,\"Ab\",\"cd\",{11,12,13},(121,123,124,'a'),55,44,33,66,77,88,99,665,678,543,234,98765]\n",
    "if 16 < len(a) < 55 :\n",
    "    print(\"True\")\n",
    "else:\n",
    "    print(\"False\")"
   ]
  },
  {
   "cell_type": "code",
   "execution_count": 10,
   "metadata": {},
   "outputs": [
    {
     "name": "stdout",
     "output_type": "stream",
     "text": [
      "True\n"
     ]
    }
   ],
   "source": [
    "#57.WAC to perform  the length of the collection is divisible by 5 and odd.\n",
    "i = \"abcdefghijlokig\"\n",
    "if len(i)%5 == 0 and not(len(i)%2 == 0) :\n",
    "    print(\"True\")\n",
    "else:\n",
    "    print(\"False\")"
   ]
  },
  {
   "cell_type": "code",
   "execution_count": 4,
   "metadata": {},
   "outputs": [
    {
     "name": "stdout",
     "output_type": "stream",
     "text": [
      "30\n",
      "W\n",
      "30\n"
     ]
    }
   ],
   "source": [
    "#58.WAC to extract the middle position of a given collection.(str, lis, tuple)\n",
    "#For list\n",
    "li = [10,20,30,40,50]\n",
    "print(li[len(li)//2])\n",
    "\n",
    "#For str\n",
    "str = \"HelloWorld\"\n",
    "print(str[len(str)//2])\n",
    "\n",
    "#For Tuple\n",
    "tup = (10,20,30,40,50)\n",
    "print(tup[len(tup)//2])\n",
    "\n"
   ]
  },
  {
   "cell_type": "code",
   "execution_count": 6,
   "metadata": {},
   "outputs": [
    {
     "name": "stdout",
     "output_type": "stream",
     "text": [
      "False\n"
     ]
    }
   ],
   "source": [
    "#59.WAC to the given number is greater than 20 and less than 30 and it should be even.\n",
    "x = int(input(\"Enter a number =\"))\n",
    "if 20 < x < 30 and x%2 == 0 :\n",
    "    print(True)\n",
    "else:\n",
    "    print(False)"
   ]
  },
  {
   "cell_type": "code",
   "execution_count": 7,
   "metadata": {},
   "outputs": [
    {
     "name": "stdout",
     "output_type": "stream",
     "text": [
      "True\n"
     ]
    }
   ],
   "source": [
    "#60.WAC to the given number is even and it should be less than 120.\n",
    "x = int(input(\"Enter a number =\"))\n",
    "if x < 120 and x%2 == 0 :\n",
    "    print(True)\n",
    "else:\n",
    "    print(False)"
   ]
  },
  {
   "cell_type": "code",
   "execution_count": 10,
   "metadata": {},
   "outputs": [
    {
     "name": "stdout",
     "output_type": "stream",
     "text": [
      "True\n"
     ]
    }
   ],
   "source": [
    "#61.WAC to the given number is even and present from 40 to 70\n",
    "x = int(input(\"Enter a number =\"))\n",
    "if 40 < x < 70 and x%2 == 0 :\n",
    "    print(True)\n",
    "else:\n",
    "    print(False)"
   ]
  },
  {
   "cell_type": "code",
   "execution_count": 9,
   "metadata": {},
   "outputs": [
    {
     "name": "stdout",
     "output_type": "stream",
     "text": [
      "True\n"
     ]
    }
   ],
   "source": [
    "#62.WAC to the given number is odd and it should be greater than 97.\n",
    "x = int(input(\"Enter a number =\"))\n",
    "if  x > 97 and not(x%2 == 0) :\n",
    "    print(True)\n",
    "else:\n",
    "    print(False)"
   ]
  },
  {
   "cell_type": "code",
   "execution_count": 12,
   "metadata": {},
   "outputs": [
    {
     "name": "stdout",
     "output_type": "stream",
     "text": [
      "True\n"
     ]
    }
   ],
   "source": [
    "#63.WAC to the given number is less than 122 and greater than 48 and the number\n",
    "#should be divisible by 4.\n",
    "x = int(input(\"Enter a number =\"))\n",
    "if 122 > x > 48 and x%4 == 0 :\n",
    "    print(True)\n",
    "else:\n",
    "    print(False)"
   ]
  },
  {
   "cell_type": "code",
   "execution_count": 13,
   "metadata": {},
   "outputs": [
    {
     "name": "stdout",
     "output_type": "stream",
     "text": [
      "True\n"
     ]
    }
   ],
   "source": [
    "#64.WAC to the given number is divisible by 3 or 5, displaying the value.\n",
    "x = int(input(\"Enter a number =\"))\n",
    "if x%3 == 0 or x%5 == 0 :\n",
    "    print(True)\n",
    "else:\n",
    "    print(False)"
   ]
  },
  {
   "cell_type": "code",
   "execution_count": 15,
   "metadata": {},
   "outputs": [
    {
     "name": "stdout",
     "output_type": "stream",
     "text": [
      "True\n"
     ]
    }
   ],
   "source": [
    "#65.WAC to the given number is between 100 to 200 including the limit.\n",
    "x = int(input(\"Enter a number =\"))\n",
    "if 100 <= x <= 200 :\n",
    "    print(True)\n",
    "else:\n",
    "    print(False)"
   ]
  },
  {
   "cell_type": "code",
   "execution_count": 16,
   "metadata": {},
   "outputs": [
    {
     "name": "stdout",
     "output_type": "stream",
     "text": [
      "False\n"
     ]
    }
   ],
   "source": [
    "#66.WAC to the given number is in between 100 to 200.\n",
    "x = int(input(\"Enter a number =\"))\n",
    "if 100 < x < 200 :\n",
    "    print(True)\n",
    "else:\n",
    "    print(False)"
   ]
  },
  {
   "cell_type": "code",
   "execution_count": 17,
   "metadata": {},
   "outputs": [
    {
     "name": "stdout",
     "output_type": "stream",
     "text": [
      "True\n"
     ]
    }
   ],
   "source": [
    "#67.WAC to the given strings last character ASCII value should be divisible by 5.\n",
    "str = \"helloworld\"\n",
    "if ord(str[-1:])%5 == 0:\n",
    "    print(True)"
   ]
  },
  {
   "cell_type": "code",
   "execution_count": 18,
   "metadata": {},
   "outputs": [
    {
     "name": "stdout",
     "output_type": "stream",
     "text": [
      "False\n"
     ]
    }
   ],
   "source": [
    "#68.WAC to the given number is present between 60 to 130 and the number should be\n",
    "#divisible by 3 and 4 and the last digit should be greater than 9.\n",
    "x = int(input(\"Enter a number =\"))\n",
    "if 130 > x > 60 and x%4 == 0 and x%3 == 0 :\n",
    "    print(True)\n",
    "else:\n",
    "    print(False)"
   ]
  },
  {
   "cell_type": "code",
   "execution_count": 20,
   "metadata": {},
   "outputs": [
    {
     "name": "stdout",
     "output_type": "stream",
     "text": [
      "False\n"
     ]
    }
   ],
   "source": [
    "#69.WAC to the given number is even or less than 25.\n",
    "x = int(input(\"Enter a number =\"))\n",
    "if 25 > x :\n",
    "    print(True)\n",
    "else:\n",
    "    print(False)"
   ]
  },
  {
   "cell_type": "code",
   "execution_count": 22,
   "metadata": {},
   "outputs": [
    {
     "name": "stdout",
     "output_type": "stream",
     "text": [
      "False\n"
     ]
    }
   ],
   "source": [
    "#70.WAC to the given number is even or greater than 25.\n",
    "x = int(input(\"Enter a number =\"))\n",
    "if x%2 == 0 and 25 < x :\n",
    "    print(True)\n",
    "else:\n",
    "    print(False)"
   ]
  },
  {
   "cell_type": "code",
   "execution_count": 24,
   "metadata": {},
   "outputs": [
    {
     "name": "stdout",
     "output_type": "stream",
     "text": [
      "False\n"
     ]
    }
   ],
   "source": [
    "#71.WAC to the given number is divisible by either 3 or 5.\n",
    "x = int(input(\"Enter a number =\"))\n",
    "if x%5 == 0 and x%3 == 0 :\n",
    "    print(True)\n",
    "else:\n",
    "    print(False)\n"
   ]
  },
  {
   "cell_type": "code",
   "execution_count": 25,
   "metadata": {},
   "outputs": [
    {
     "name": "stdout",
     "output_type": "stream",
     "text": [
      "True\n"
     ]
    }
   ],
   "source": [
    "#72.WAC to the given number is not an even number.\n",
    "x = int(input(\"Enter a number =\"))\n",
    "if not(x%2 == 0) :\n",
    "    print(True)\n",
    "else:\n",
    "    print(False)"
   ]
  },
  {
   "cell_type": "code",
   "execution_count": 26,
   "metadata": {},
   "outputs": [
    {
     "name": "stdout",
     "output_type": "stream",
     "text": [
      "True\n"
     ]
    }
   ],
   "source": [
    "#73.WAC to the given number is not a odd number\n",
    "x = int(input(\"Enter a number =\"))\n",
    "if x%2 == 0 :\n",
    "    print(True)\n",
    "else:\n",
    "    print(False)\n"
   ]
  },
  {
   "cell_type": "code",
   "execution_count": 30,
   "metadata": {},
   "outputs": [
    {
     "name": "stdout",
     "output_type": "stream",
     "text": [
      "True\n"
     ]
    }
   ],
   "source": [
    "#74.WAC to the given number is not a divisible by 3\n",
    "x = int(input(\"Enter a number =\"))\n",
    "if not(x%3 == 0) :\n",
    "    print(True)\n",
    "else:\n",
    "    print(False)"
   ]
  },
  {
   "cell_type": "code",
   "execution_count": 31,
   "metadata": {},
   "outputs": [
    {
     "name": "stdout",
     "output_type": "stream",
     "text": [
      "False\n"
     ]
    }
   ],
   "source": [
    "#75.WAC to the given number is not a divisible by 3 and  5\n",
    "x = int(input(\"Enter a number =\"))\n",
    "if not(x%3 == 0 and x%5 == 0) :\n",
    "    print(True)\n",
    "else:\n",
    "    print(False)"
   ]
  },
  {
   "cell_type": "code",
   "execution_count": null,
   "metadata": {},
   "outputs": [],
   "source": [
    "#76.WAC to the given number is not a divisible by 3 or 5\n",
    "x = int(input(\"Enter a number =\"))\n",
    "if not(x%3 == 0 or x%5 == 0) :\n",
    "    print(True)\n",
    "else:\n",
    "    print(False)"
   ]
  },
  {
   "cell_type": "code",
   "execution_count": 34,
   "metadata": {},
   "outputs": [
    {
     "name": "stdout",
     "output_type": "stream",
     "text": [
      "True\n"
     ]
    }
   ],
   "source": [
    "#77.WAC to the given character ascii value is not divisible by 5.\n",
    "x = 'j'\n",
    "if not(ord(x)%5 == 0) :\n",
    "    print(True)\n",
    "else:\n",
    "    print(False)\n"
   ]
  },
  {
   "cell_type": "code",
   "execution_count": 35,
   "metadata": {},
   "outputs": [
    {
     "name": "stdout",
     "output_type": "stream",
     "text": [
      "F\n"
     ]
    }
   ],
   "source": [
    "#78.WAC to find out the ascii character in a given number.\n",
    "x = 70\n",
    "print(chr(x))"
   ]
  },
  {
   "cell_type": "code",
   "execution_count": 36,
   "metadata": {},
   "outputs": [
    {
     "name": "stdout",
     "output_type": "stream",
     "text": [
      "117\n"
     ]
    }
   ],
   "source": [
    "#79.WAC to find out the ascii value in a given character.\n",
    "x = 'u'\n",
    "print(ord(x))\n"
   ]
  },
  {
   "cell_type": "code",
   "execution_count": 37,
   "metadata": {},
   "outputs": [
    {
     "name": "stdout",
     "output_type": "stream",
     "text": [
      "Upper case = P\n"
     ]
    }
   ],
   "source": [
    "#80.WAC to the given character is uppercase or not.\n",
    "i = 'P'\n",
    "if 'A' <= i <= 'Z':\n",
    "    print(\"Upper case =\",i)"
   ]
  },
  {
   "cell_type": "code",
   "execution_count": 41,
   "metadata": {},
   "outputs": [
    {
     "ename": "TypeError",
     "evalue": "'<=' not supported between instances of 'str' and 'int'",
     "output_type": "error",
     "traceback": [
      "\u001b[1;31m---------------------------------------------------------------------------\u001b[0m",
      "\u001b[1;31mTypeError\u001b[0m                                 Traceback (most recent call last)",
      "Cell \u001b[1;32mIn[41], line 3\u001b[0m\n\u001b[0;32m      1\u001b[0m \u001b[39m#81.WAC to the given character is the alphabet.\u001b[39;00m\n\u001b[0;32m      2\u001b[0m i \u001b[39m=\u001b[39m \u001b[39m1\u001b[39m\n\u001b[1;32m----> 3\u001b[0m \u001b[39mif\u001b[39;00m \u001b[39m'\u001b[39;49m\u001b[39mA\u001b[39;49m\u001b[39m'\u001b[39;49m \u001b[39m<\u001b[39;49m\u001b[39m=\u001b[39;49m i \u001b[39m<\u001b[39;49m\u001b[39m=\u001b[39;49m \u001b[39m'\u001b[39;49m\u001b[39mZ\u001b[39;49m\u001b[39m'\u001b[39;49m \u001b[39mor\u001b[39;00m \u001b[39m'\u001b[39m\u001b[39ma\u001b[39m\u001b[39m'\u001b[39m \u001b[39m<\u001b[39m\u001b[39m=\u001b[39m i \u001b[39m<\u001b[39m\u001b[39m=\u001b[39m \u001b[39m'\u001b[39m\u001b[39mz\u001b[39m\u001b[39m'\u001b[39m :\n\u001b[0;32m      4\u001b[0m     \u001b[39mprint\u001b[39m(\u001b[39m\"\u001b[39m\u001b[39mAlphabet =\u001b[39m\u001b[39m\"\u001b[39m,i)\n\u001b[0;32m      5\u001b[0m \u001b[39melse\u001b[39;00m:\n",
      "\u001b[1;31mTypeError\u001b[0m: '<=' not supported between instances of 'str' and 'int'"
     ]
    }
   ],
   "source": [
    "#81.WAC to the given character is the alphabet.\n",
    "i = 1\n",
    "if 'A' <= i <= 'Z' or 'a' <= i <= 'z' :\n",
    "    print(\"Alphabet =\",i)\n",
    "else:\n",
    "    print(\"Not alphabet\")\n"
   ]
  },
  {
   "cell_type": "code",
   "execution_count": 43,
   "metadata": {},
   "outputs": [
    {
     "name": "stdout",
     "output_type": "stream",
     "text": [
      "Lower case = o\n"
     ]
    }
   ],
   "source": [
    "#82.WAC to the given character is lowercase.\n",
    "i = 'o'\n",
    "if 'a' <= i <= 'z':\n",
    "    print(\"Lower case =\",i)"
   ]
  },
  {
   "cell_type": "code",
   "execution_count": null,
   "metadata": {},
   "outputs": [],
   "source": [
    "#83.WAC to the given character is the ascii number."
   ]
  },
  {
   "cell_type": "code",
   "execution_count": 1,
   "metadata": {},
   "outputs": [
    {
     "name": "stdout",
     "output_type": "stream",
     "text": [
      "Special Character = &\n"
     ]
    }
   ],
   "source": [
    "#84.WAC to the given character is the special character.\n",
    "x = '&'\n",
    "if not('a' <= x <= 'z' and 'A' <= x <= 'Z' and 0 <= x <= 9):\n",
    "    print(\"Special Character =\",x)"
   ]
  },
  {
   "cell_type": "code",
   "execution_count": 6,
   "metadata": {},
   "outputs": [
    {
     "name": "stdout",
     "output_type": "stream",
     "text": [
      "y\n"
     ]
    }
   ],
   "source": [
    "#85.WAC to the given character should not be uppercase.\n",
    "x = 'Y'\n",
    "if 'a' <= x <= 'z':\n",
    "    print(x)\n",
    "else:\n",
    "    print(chr(ord(x)+32))\n"
   ]
  },
  {
   "cell_type": "code",
   "execution_count": 1,
   "metadata": {},
   "outputs": [
    {
     "name": "stdout",
     "output_type": "stream",
     "text": [
      "Y\n"
     ]
    }
   ],
   "source": [
    "#86.WAC to the given character should not be lowercase.\n",
    "x = 'y'\n",
    "if not('a' <= x <= 'z'):\n",
    "    print(x)\n",
    "else:\n",
    "    print(chr(ord(x)-32))"
   ]
  },
  {
   "cell_type": "code",
   "execution_count": 7,
   "metadata": {},
   "outputs": [
    {
     "name": "stdout",
     "output_type": "stream",
     "text": [
      "False\n"
     ]
    }
   ],
   "source": [
    "#87.WAC to the given character should not be the alphabet.\n",
    "x = 'a'\n",
    "if not('a' <= x <= 'z' or 'A' <= x <= \"Z\"):\n",
    "    print(\"True\")\n",
    "else:\n",
    "    print(\"False\")\n"
   ]
  },
  {
   "cell_type": "code",
   "execution_count": null,
   "metadata": {},
   "outputs": [],
   "source": [
    "#88.WAC to the given character should not be an ascii number."
   ]
  },
  {
   "cell_type": "code",
   "execution_count": 16,
   "metadata": {},
   "outputs": [
    {
     "ename": "TypeError",
     "evalue": "'<=' not supported between instances of 'int' and 'str'",
     "output_type": "error",
     "traceback": [
      "\u001b[1;31m---------------------------------------------------------------------------\u001b[0m",
      "\u001b[1;31mTypeError\u001b[0m                                 Traceback (most recent call last)",
      "Cell \u001b[1;32mIn[16], line 3\u001b[0m\n\u001b[0;32m      1\u001b[0m \u001b[39m#89.WAC to the given character is the special character.\u001b[39;00m\n\u001b[0;32m      2\u001b[0m x \u001b[39m=\u001b[39m \u001b[39m'\u001b[39m\u001b[39m#\u001b[39m\u001b[39m'\u001b[39m\n\u001b[1;32m----> 3\u001b[0m \u001b[39mif\u001b[39;00m \u001b[39m'\u001b[39m\u001b[39ma\u001b[39m\u001b[39m'\u001b[39m \u001b[39m<\u001b[39m\u001b[39m=\u001b[39m x \u001b[39m<\u001b[39m\u001b[39m=\u001b[39m \u001b[39m'\u001b[39m\u001b[39mz\u001b[39m\u001b[39m'\u001b[39m \u001b[39mor\u001b[39;00m \u001b[39m'\u001b[39m\u001b[39mA\u001b[39m\u001b[39m'\u001b[39m \u001b[39m<\u001b[39m\u001b[39m=\u001b[39m x \u001b[39m<\u001b[39m\u001b[39m=\u001b[39m \u001b[39m'\u001b[39m\u001b[39mZ\u001b[39m\u001b[39m'\u001b[39m \u001b[39mor\u001b[39;00m \u001b[39m0\u001b[39;49m \u001b[39m<\u001b[39;49m\u001b[39m=\u001b[39;49m x \u001b[39m<\u001b[39;49m\u001b[39m=\u001b[39;49m \u001b[39m9\u001b[39;49m :\n\u001b[0;32m      4\u001b[0m     \u001b[39mprint\u001b[39m(\u001b[39m\"\u001b[39m\u001b[39mFalse\u001b[39m\u001b[39m\"\u001b[39m)\n\u001b[0;32m      5\u001b[0m \u001b[39melse\u001b[39;00m:\n",
      "\u001b[1;31mTypeError\u001b[0m: '<=' not supported between instances of 'int' and 'str'"
     ]
    }
   ],
   "source": [
    "#89.WAC to the given character is the special character.\n",
    "x = '#'\n",
    "if 'a' <= x <= 'z' or 'A' <= x <= 'Z' or 0 <= x <= 9 :\n",
    "    print(\"False\")\n",
    "else:\n",
    "    print(\"True\")\n"
   ]
  },
  {
   "cell_type": "code",
   "execution_count": 9,
   "metadata": {},
   "outputs": [],
   "source": [
    "#90.WAC to the given character is a vowel.\n",
    "i = input(\"Enter a value= \")\n",
    "if i in \"AEIOUaeiou\":\n",
    "    print(\"True\")"
   ]
  },
  {
   "cell_type": "code",
   "execution_count": 18,
   "metadata": {},
   "outputs": [
    {
     "name": "stdout",
     "output_type": "stream",
     "text": [
      "False\n"
     ]
    }
   ],
   "source": [
    "#91.WAC to the given character is  a consonant.\n",
    "i = input(\"Enter a value =\")\n",
    "if i not in \"AEIOUaeiou\":\n",
    "    print(\"True\")\n",
    "else:\n",
    "    print(\"False\")"
   ]
  },
  {
   "cell_type": "code",
   "execution_count": 20,
   "metadata": {},
   "outputs": [
    {
     "name": "stdout",
     "output_type": "stream",
     "text": [
      "d\n"
     ]
    }
   ],
   "source": [
    "#92.WAS to convert uppercase to lowercase in a given character.\n",
    "x = 'D'\n",
    "if 'A' <= x <= 'Z':\n",
    "    print(chr(ord(x)+32))"
   ]
  },
  {
   "cell_type": "code",
   "execution_count": 23,
   "metadata": {},
   "outputs": [
    {
     "name": "stdout",
     "output_type": "stream",
     "text": [
      "D\n"
     ]
    }
   ],
   "source": [
    "#93.WAS to convert lowercase to uppercase in a given character. \n",
    "x = 'd'\n",
    "if 'a' <= x <= 'z':\n",
    "    print(chr(ord(x)-32))"
   ]
  },
  {
   "cell_type": "code",
   "execution_count": 24,
   "metadata": {},
   "outputs": [
    {
     "name": "stdout",
     "output_type": "stream",
     "text": [
      "c\n"
     ]
    }
   ],
   "source": [
    "#94.WAS to extract the previous character in the given character.\n",
    "x = input(\"Enter a value =\")\n",
    "x = chr(ord(x)-1)\n",
    "print(x)"
   ]
  },
  {
   "cell_type": "code",
   "execution_count": 25,
   "metadata": {},
   "outputs": [
    {
     "name": "stdout",
     "output_type": "stream",
     "text": [
      "f\n"
     ]
    }
   ],
   "source": [
    "#95.WAS to extract the next character in the given character.\n",
    "x = input(\"Enter a value =\")\n",
    "x = chr(ord(x)+1)\n",
    "print(x)"
   ]
  },
  {
   "cell_type": "code",
   "execution_count": 8,
   "metadata": {},
   "outputs": [
    {
     "name": "stdout",
     "output_type": "stream",
     "text": [
      "Special character\n"
     ]
    }
   ],
   "source": [
    "#96.WAC to the given number character is a special symbol.\n",
    "x = '54'\n",
    "if \"A\" <= x <= \"Z\" or \"a\" <= x <= \"z\" :\n",
    "    if  0 <= x <= 9:\n",
    "        print(\"not special character\")\n",
    "else:\n",
    "    print(\"Special character\")"
   ]
  },
  {
   "cell_type": "code",
   "execution_count": 10,
   "metadata": {},
   "outputs": [
    {
     "name": "stdout",
     "output_type": "stream",
     "text": [
      "True\n"
     ]
    }
   ],
   "source": [
    "#97.WAC to the given character is converted to ASCII value and the value is even as\n",
    "#well as the character should be lowercase. \n",
    "x = 'f'\n",
    "y = ord(x)\n",
    "if y%2 == 0 and 'a' <= x <= 'z' :\n",
    "    print(\"True\")\n",
    "else:\n",
    "    print(\"False\")"
   ]
  },
  {
   "cell_type": "code",
   "execution_count": 13,
   "metadata": {},
   "outputs": [
    {
     "name": "stdout",
     "output_type": "stream",
     "text": [
      "False\n"
     ]
    }
   ],
   "source": [
    "#98.WAC to the given character is converted to ASCII value and the value is odd as well\n",
    "#as the character should be uppercase. \n",
    "x = 'S'\n",
    "y = ord(x)\n",
    "if y%2 == 0 and 'A' <= x <= 'Z' :\n",
    "    print(\"True\")\n",
    "else:\n",
    "    print(\"False\")"
   ]
  },
  {
   "cell_type": "code",
   "execution_count": 18,
   "metadata": {},
   "outputs": [
    {
     "name": "stdout",
     "output_type": "stream",
     "text": [
      "Not Special character\n"
     ]
    }
   ],
   "source": [
    "#99.WAC to which the given number is converted to character is not a special symbol or\n",
    "#not.\n",
    "x = 67\n",
    "y = chr(x)\n",
    "if not(\"A\" <= y <= \"Z\" or \"a\" <= y <= \"z\" or 0 <= y <= 9) :\n",
    "    print(\"Special character\")\n",
    "else:\n",
    "    print(\"Not Special character\")"
   ]
  },
  {
   "cell_type": "code",
   "execution_count": 21,
   "metadata": {},
   "outputs": [
    {
     "name": "stdout",
     "output_type": "stream",
     "text": [
      "E\n",
      "the given number is vowel\n"
     ]
    }
   ],
   "source": [
    "#100.WAC to the given number of the ascii character is a vowel.\n",
    "x = 69\n",
    "y = chr(x)\n",
    "print(y)\n",
    "if y in \"AEIOUaeiou\":\n",
    "    print(\"the given number is vowel\")\n",
    "else:\n",
    "    print(\"Not vowel\")"
   ]
  },
  {
   "cell_type": "code",
   "execution_count": 6,
   "metadata": {},
   "outputs": [
    {
     "name": "stdout",
     "output_type": "stream",
     "text": [
      "True\n"
     ]
    }
   ],
   "source": [
    "#101.WAC to check if the first and second characters are sequence or not in a given\n",
    "#string.\n",
    "x = \"abhbdoajc\"\n",
    "\n",
    "if ord(x[1]) == ord(x[0])+1:\n",
    "    print(\"True\")\n",
    "else: \n",
    "    print(\"False\")"
   ]
  },
  {
   "cell_type": "code",
   "execution_count": 9,
   "metadata": {},
   "outputs": [
    {
     "name": "stdout",
     "output_type": "stream",
     "text": [
      "116\n",
      "True\n"
     ]
    }
   ],
   "source": [
    "#102.WAC to the given  character ASCII value should be either greater than 50 or greater\n",
    "#than 25 or less than 112.\n",
    "x = 't'\n",
    "print(ord(x))\n",
    "if 25 < ord(x) or 50 < ord(x) or 122 > ord(x):\n",
    "    print(\"True\")\n",
    "else:\n",
    "    print(\"False\")"
   ]
  },
  {
   "cell_type": "code",
   "execution_count": 10,
   "metadata": {},
   "outputs": [
    {
     "name": "stdout",
     "output_type": "stream",
     "text": [
      "11\n"
     ]
    }
   ],
   "source": [
    "#103.WAC to the given number is increased by 1.\n",
    "x = 10 \n",
    "print(x+1)"
   ]
  },
  {
   "cell_type": "code",
   "execution_count": 11,
   "metadata": {},
   "outputs": [
    {
     "name": "stdout",
     "output_type": "stream",
     "text": [
      "12\n"
     ]
    }
   ],
   "source": [
    "#104.WAC to the given number is increased by 2.\n",
    "x = 10 \n",
    "print(x+2)"
   ]
  },
  {
   "cell_type": "code",
   "execution_count": null,
   "metadata": {},
   "outputs": [],
   "source": [
    "#105.WAC to the given number is decreased by 1.\n",
    "x = 10 \n",
    "print(x-1)"
   ]
  },
  {
   "cell_type": "code",
   "execution_count": 12,
   "metadata": {},
   "outputs": [
    {
     "name": "stdout",
     "output_type": "stream",
     "text": [
      "7\n"
     ]
    }
   ],
   "source": [
    "#106.WAC to the given number is decreased by 3.\n",
    "x = 10 \n",
    "print(x-3)"
   ]
  },
  {
   "cell_type": "code",
   "execution_count": 13,
   "metadata": {},
   "outputs": [
    {
     "name": "stdout",
     "output_type": "stream",
     "text": [
      "True\n"
     ]
    }
   ],
   "source": [
    "#107.WAC to the given integer number is present in the collection.\n",
    "x = 10 \n",
    "y = [10,20,30,40,50]\n",
    "if x in y :\n",
    "    print(\"True\")\n",
    "else:\n",
    "    print(\"False\")"
   ]
  },
  {
   "cell_type": "code",
   "execution_count": 14,
   "metadata": {},
   "outputs": [
    {
     "name": "stdout",
     "output_type": "stream",
     "text": [
      "30\n"
     ]
    }
   ],
   "source": [
    "#108.WAC to perform the addition operation on A value and B value and final result\n",
    "#should be updated to A.\n",
    "a = 10 \n",
    "b = 20 \n",
    "a = a+b\n",
    "print(a)"
   ]
  },
  {
   "cell_type": "code",
   "execution_count": 15,
   "metadata": {},
   "outputs": [
    {
     "name": "stdout",
     "output_type": "stream",
     "text": [
      "True\n"
     ]
    }
   ],
   "source": [
    "#109.WAC to the given value is present in the collection\n",
    "x = 'world'\n",
    "y = [10,'haii','world']\n",
    "if x in y :\n",
    "    print(\"True\")\n",
    "else:\n",
    "    print(\"False\")\n"
   ]
  },
  {
   "cell_type": "code",
   "execution_count": 2,
   "metadata": {},
   "outputs": [
    {
     "name": "stdout",
     "output_type": "stream",
     "text": [
      "True\n"
     ]
    }
   ],
   "source": [
    "#110.WAC to the given list is present in the list.\n",
    "x = 10 \n",
    "y = [10,20,30,40,50]\n",
    "if x in y :\n",
    "    print(\"True\")\n",
    "else:\n",
    "    print(\"False\")"
   ]
  },
  {
   "cell_type": "code",
   "execution_count": 7,
   "metadata": {},
   "outputs": [
    {
     "name": "stdout",
     "output_type": "stream",
     "text": [
      "False\n"
     ]
    }
   ],
   "source": [
    "#111.WAC to the given dict value is present in tuple.\n",
    "x = {'a':20}\n",
    "li = list(x)\n",
    "y = (10,20,30,40)\n",
    "if li in y:\n",
    "    print(\"True\")\n",
    "else:\n",
    "    print(\"False\")"
   ]
  },
  {
   "cell_type": "code",
   "execution_count": 2,
   "metadata": {},
   "outputs": [
    {
     "name": "stdout",
     "output_type": "stream",
     "text": [
      "False\n"
     ]
    }
   ],
   "source": [
    "#112.WAC to the check given value is integer value or not.\n",
    "x = 'a'\n",
    "if type(x) == int :\n",
    "    print(\"True\")\n",
    "else:\n",
    "    print(\"False\")"
   ]
  },
  {
   "cell_type": "code",
   "execution_count": 5,
   "metadata": {},
   "outputs": [
    {
     "name": "stdout",
     "output_type": "stream",
     "text": [
      "False\n"
     ]
    }
   ],
   "source": [
    "#113.WAC to the check given value is string value or not.\n",
    "x = 12\n",
    "if type(x) == str:\n",
    "    print(\"True\")\n",
    "else:\n",
    "    print(\"False\")"
   ]
  },
  {
   "cell_type": "code",
   "execution_count": 7,
   "metadata": {},
   "outputs": [
    {
     "name": "stdout",
     "output_type": "stream",
     "text": [
      "False\n"
     ]
    }
   ],
   "source": [
    "#114.WAC to the check given value is single value or not.\n",
    "x = [10,101,234]\n",
    "if type(x) in [int,float,complex,None,bytes,bool]:\n",
    "    print(\"True\")\n",
    "else:\n",
    "    print(\"False\")"
   ]
  },
  {
   "cell_type": "code",
   "execution_count": 8,
   "metadata": {},
   "outputs": [
    {
     "name": "stdout",
     "output_type": "stream",
     "text": [
      "True\n"
     ]
    }
   ],
   "source": [
    "#115.WAC to the check given value should not be a single value.\n",
    "x = [10,101,234]\n",
    "if type(x) not in [int,float,complex,None,bytes,bool]:\n",
    "    print(\"True\")\n",
    "else:\n",
    "    print(\"False\")"
   ]
  },
  {
   "cell_type": "code",
   "execution_count": null,
   "metadata": {},
   "outputs": [],
   "source": [
    "#116.WAC to the check given value is multi value or not.\n",
    "x = [10,101,234]\n",
    "if type(x) not in [int,float,complex,None,bytes,bool]:\n",
    "    print(\"True\")\n",
    "else:\n",
    "    print(\"False\")"
   ]
  },
  {
   "cell_type": "code",
   "execution_count": 9,
   "metadata": {},
   "outputs": [
    {
     "name": "stdout",
     "output_type": "stream",
     "text": [
      "True\n"
     ]
    }
   ],
   "source": [
    "#117.WAC to the check given value is a mutable value or not.\n",
    "x = [10,101,234]\n",
    "if type(x)  in [list,tuple,dict]:\n",
    "    print(\"True\")\n",
    "else:\n",
    "    print(\"False\")"
   ]
  },
  {
   "cell_type": "code",
   "execution_count": 10,
   "metadata": {},
   "outputs": [
    {
     "name": "stdout",
     "output_type": "stream",
     "text": [
      "False\n"
     ]
    }
   ],
   "source": [
    "#118.WAC to the check given value is an immutable value or not.\n",
    "x = [10,101,234]\n",
    "if type(x) not in [list,tuple,dict]:\n",
    "    print(\"True\")\n",
    "else:\n",
    "    print(\"False\")"
   ]
  },
  {
   "cell_type": "code",
   "execution_count": null,
   "metadata": {},
   "outputs": [],
   "source": [
    "#119.WAC to the check given value should be an immutable value."
   ]
  },
  {
   "cell_type": "code",
   "execution_count": null,
   "metadata": {},
   "outputs": [],
   "source": [
    "#120WAC to check if a given value is divisible by 6 as well as that value present in the\n",
    "#collection or not."
   ]
  },
  {
   "cell_type": "code",
   "execution_count": null,
   "metadata": {},
   "outputs": [],
   "source": [
    "#121.WAC to perform the bitwise and operation given values are 15 and 19.  "
   ]
  },
  {
   "cell_type": "code",
   "execution_count": null,
   "metadata": {},
   "outputs": [],
   "source": [
    "#122.WAC to perform the bitwise or operation given values are 115 and 79."
   ]
  },
  {
   "cell_type": "code",
   "execution_count": null,
   "metadata": {},
   "outputs": [],
   "source": [
    "#123.WAC to perform the bitwise xor operation given values are 56 and 22.  "
   ]
  },
  {
   "cell_type": "code",
   "execution_count": null,
   "metadata": {},
   "outputs": [],
   "source": [
    "#124.WAC to perform the bitwise not operation given values are 15.  "
   ]
  },
  {
   "cell_type": "code",
   "execution_count": null,
   "metadata": {},
   "outputs": [],
   "source": [
    "#125.WAC  to perform the bitwise left shift with 32  and  skipping value is 3."
   ]
  },
  {
   "cell_type": "code",
   "execution_count": null,
   "metadata": {},
   "outputs": [],
   "source": [
    "#126.WAC  to perform the bitwise right shift with 25  and  skipping value is 2."
   ]
  },
  {
   "cell_type": "code",
   "execution_count": null,
   "metadata": {},
   "outputs": [],
   "source": [
    "#127.To find out the output of a given condition.\n",
    "#(10+20*60 and 10**3) or ({10,20} or not ([15-16]))"
   ]
  },
  {
   "cell_type": "code",
   "execution_count": null,
   "metadata": {},
   "outputs": [],
   "source": [
    "#128.WAC to check if the first and last characters are the same or not in the given list."
   ]
  },
  {
   "cell_type": "code",
   "execution_count": null,
   "metadata": {},
   "outputs": [],
   "source": [
    "#129.WAC to check if a given key is present in a dict."
   ]
  },
  {
   "cell_type": "code",
   "execution_count": null,
   "metadata": {},
   "outputs": [],
   "source": [
    "#130.WAC to check if value is present in the dict."
   ]
  },
  {
   "cell_type": "code",
   "execution_count": null,
   "metadata": {},
   "outputs": [],
   "source": [
    "#131.WAC to check if the key is not present in a dict."
   ]
  },
  {
   "cell_type": "code",
   "execution_count": null,
   "metadata": {},
   "outputs": [],
   "source": [
    "#132.WAC to check if two values are pointing to the same address or not"
   ]
  },
  {
   "cell_type": "code",
   "execution_count": null,
   "metadata": {},
   "outputs": [],
   "source": [
    "#133.WAC to check both the values should be integer and both the values are pointing to\n",
    "#the same address."
   ]
  },
  {
   "cell_type": "code",
   "execution_count": null,
   "metadata": {},
   "outputs": [],
   "source": []
  }
 ],
 "metadata": {
  "kernelspec": {
   "display_name": "Python 3",
   "language": "python",
   "name": "python3"
  },
  "language_info": {
   "codemirror_mode": {
    "name": "ipython",
    "version": 3
   },
   "file_extension": ".py",
   "mimetype": "text/x-python",
   "name": "python",
   "nbconvert_exporter": "python",
   "pygments_lexer": "ipython3",
   "version": "3.11.1"
  },
  "orig_nbformat": 4,
  "vscode": {
   "interpreter": {
    "hash": "875bcf332de9c2a2aaf00f60374e87b85b3e6db2370b8fd7ed9ed4f6acfde3c6"
   }
  }
 },
 "nbformat": 4,
 "nbformat_minor": 2
}
