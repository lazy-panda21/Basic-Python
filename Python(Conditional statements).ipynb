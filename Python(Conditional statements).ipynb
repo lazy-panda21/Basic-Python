{
 "cells": [
  {
   "cell_type": "code",
   "execution_count": 2,
   "metadata": {},
   "outputs": [
    {
     "name": "stdout",
     "output_type": "stream",
     "text": [
      "Not a positive number\n"
     ]
    }
   ],
   "source": [
    "#1) WAP to check whether a number is positive. If Positive, print a message Positive.\n",
    "a = int(input(\"Enter a value =\"))\n",
    "if a>0:\n",
    "    print(\"The given number is positive\")\n",
    "else:\n",
    "     print(\"Not a positive number\")"
   ]
  },
  {
   "cell_type": "code",
   "execution_count": 5,
   "metadata": {},
   "outputs": [
    {
     "name": "stdout",
     "output_type": "stream",
     "text": [
      "Hello world\n"
     ]
    }
   ],
   "source": [
    "#2) WAP to display hello world if the number is greater than 1 and lesser than 5.\n",
    "a = int(input(\"enter a num =\"))\n",
    "if 1 < a < 5:\n",
    "    print(\"Hello world\")"
   ]
  },
  {
   "cell_type": "code",
   "execution_count": 6,
   "metadata": {},
   "outputs": [
    {
     "name": "stdout",
     "output_type": "stream",
     "text": [
      "Fizz\n"
     ]
    }
   ],
   "source": [
    "#3) WAP to check whether the given number is divisible by 3 or not. If yes print fizz.\n",
    "a = int(input(\"Enter a value\"))\n",
    "if a%3 == 0:\n",
    "    print(\"Fizz\")"
   ]
  },
  {
   "cell_type": "code",
   "execution_count": 8,
   "metadata": {},
   "outputs": [
    {
     "name": "stdout",
     "output_type": "stream",
     "text": [
      "(12+0j)\n"
     ]
    }
   ],
   "source": [
    "#4) WAP to check whether given input is divisible by 2 and 6. If the condition is satisfied,\n",
    "#convert the given number into a complex number.\n",
    "b = int(input(\"Enter a Number\"))\n",
    "if b%6==0 and b%2==0:\n",
    "    c = complex(b)\n",
    "    print(c)"
   ]
  },
  {
   "cell_type": "code",
   "execution_count": 10,
   "metadata": {},
   "outputs": [
    {
     "name": "stdout",
     "output_type": "stream",
     "text": [
      "condition satisified\n",
      "['3', '0']\n"
     ]
    }
   ],
   "source": [
    "#5) WAP to check whether a given input is divisible by 3 or 5. If the condition is satisfied,\n",
    "#the number is converted to a list.\n",
    "#i/p: 30\n",
    "#o/p:[‘3’,’0’]\n",
    "b = input(\"Enter a number\")\n",
    "a = int(b)\n",
    "if a%3==0 or a%5==0:\n",
    "    print(\"condition satisified\")\n",
    "    c = list(b)\n",
    "    print(c)"
   ]
  },
  {
   "cell_type": "code",
   "execution_count": 1,
   "metadata": {},
   "outputs": [
    {
     "name": "stdout",
     "output_type": "stream",
     "text": [
      "condition satisified\n",
      "['1', '5']\n"
     ]
    }
   ],
   "source": [
    "#6) Write a program to check whether a given number is multiple of 5 or not\n",
    "a = int(input(\"Enter a number\"))\n",
    "if a%3==0 or a%5==0:    \n",
    "    print(\"condition satisified\")\n",
    "    d = str(b)\n",
    "    c = list(d)\n",
    "    print(c)"
   ]
  },
  {
   "cell_type": "code",
   "execution_count": null,
   "metadata": {},
   "outputs": [],
   "source": [
    "#7) WAP to check whether the given input is 0 or not. if 0 prints 0.\n",
    "a = int(input(\"Enter a Number =\"))\n",
    "if a == 0:\n",
    "    print(\"The given number is 0\")"
   ]
  },
  {
   "cell_type": "code",
   "execution_count": null,
   "metadata": {},
   "outputs": [],
   "source": [
    "#8) WAP to check whether a number is negative. If negative, print a message negative.\n",
    "a = int(input(\"Enter a number =\"))\n",
    "if a<0:\n",
    "    print(\"negative\")"
   ]
  },
  {
   "cell_type": "code",
   "execution_count": 4,
   "metadata": {},
   "outputs": [
    {
     "name": "stdout",
     "output_type": "stream",
     "text": [
      "the given value is even number = 50\n",
      "[10, 20, 30, '50']\n"
     ]
    }
   ],
   "source": [
    "#9) WAP to check whether a number is even or not. If even, store the value inside the list.\n",
    "a = int(input(\"Enter a value\"))\n",
    "C = [10,20,30]\n",
    "if a%2==0:\n",
    "    print(\"the given value is even number =\",a)\n",
    "    d = str(a)\n",
    "    C += [d]\n",
    "    print(C)"
   ]
  },
  {
   "cell_type": "code",
   "execution_count": 14,
   "metadata": {},
   "outputs": [
    {
     "name": "stdout",
     "output_type": "stream",
     "text": [
      "The given number is odd\n",
      "(10, 20, 30, 9)\n"
     ]
    }
   ],
   "source": [
    "#10) WAP to check whether a number is odd or not. If odd, store the value inside the tuple.\n",
    "a = int(input(\"Enter a value\"))\n",
    "tup = (10,20,30)\n",
    "if a//2 !=0:\n",
    "    print(\"The given number is odd\")\n",
    "    tup = tup + (a,)\n",
    "    print(tup)"
   ]
  },
  {
   "cell_type": "code",
   "execution_count": 31,
   "metadata": {},
   "outputs": [
    {
     "name": "stdout",
     "output_type": "stream",
     "text": [
      "1225\n"
     ]
    }
   ],
   "source": [
    "#11) WAP to check whether a given value is divisible by 5 and 7. If the value is divisible, to\n",
    "#display the square of the values.\n",
    "\n",
    "a = int(input(\"Enter a vlaue\"))\n",
    "if a % 5 == 0 and a % 7 == 0:\n",
    "    print(pow(a,2))"
   ]
  },
  {
   "cell_type": "code",
   "execution_count": 30,
   "metadata": {},
   "outputs": [
    {
     "name": "stdout",
     "output_type": "stream",
     "text": [
      "264\n"
     ]
    }
   ],
   "source": [
    "#12) WAP to check whether the given value's last digit is greater than 5 or not. If greater, to\n",
    "#perform the bitwise right shift operator (skipping value is 2)\n",
    "\n",
    "a = int(input(\"Enter a value\"))\n",
    "c = a%10\n",
    "if c > 5:\n",
    "    b = (a<<2)\n",
    "    print(b)\n",
    "    "
   ]
  },
  {
   "cell_type": "code",
   "execution_count": 29,
   "metadata": {},
   "outputs": [],
   "source": [
    "#13) WAP to check whether a given value is divisible by 3 and less than 30. If the value is\n",
    "#divisible, to display the square of the values.\n",
    "a = int(input(\"Enter a value\"))\n",
    "if a % 3 == 0 and a < 30:\n",
    "    print(pow(a,2))\n"
   ]
  },
  {
   "cell_type": "code",
   "execution_count": 27,
   "metadata": {},
   "outputs": [
    {
     "name": "stdout",
     "output_type": "stream",
     "text": [
      "4096\n"
     ]
    }
   ],
   "source": [
    "#14) WAP to check whether a given value is an even number and divisible by 4. If satisfied\n",
    "#,to display the cube of the values.\n",
    "\n",
    "a = int(input(\"enter a value\"))\n",
    "if a%2 == 0 and a%4 == 0:\n",
    "    print(pow(a,3))"
   ]
  },
  {
   "cell_type": "code",
   "execution_count": 26,
   "metadata": {},
   "outputs": [
    {
     "name": "stdout",
     "output_type": "stream",
     "text": [
      "Even number\n",
      "[8]\n"
     ]
    }
   ],
   "source": [
    "#15) WAP to check whether given value is even value or not. If the even number store the\n",
    "#value inside the list.\n",
    "a = int(input(\"enter a value\"))\n",
    "b = []\n",
    "if a%2 == 0:\n",
    "    print(\"Even number\")\n",
    "    b += [a]\n",
    "    print(b)\n"
   ]
  },
  {
   "cell_type": "code",
   "execution_count": 25,
   "metadata": {},
   "outputs": [
    {
     "name": "stdout",
     "output_type": "stream",
     "text": [
      "-7\n"
     ]
    }
   ],
   "source": [
    "#16) WAP to check whether a given value is a negative or even number. If satisfied ,to\n",
    "#display the last digit of the values.\n",
    "a = int(input(\"Enter a value\"))\n",
    "if a < 0 or a%2 == 0:\n",
    "    print(a%10-10)\n",
    "    "
   ]
  },
  {
   "cell_type": "code",
   "execution_count": 19,
   "metadata": {},
   "outputs": [
    {
     "name": "stdout",
     "output_type": "stream",
     "text": [
      "-4096\n",
      "-4096\n"
     ]
    }
   ],
   "source": [
    "#17) WAP to check whether a given value is a negative or odd number and divisible by 4.\n",
    "#If satisfied ,to display the cube of the values.\n",
    "a = int(input(\"Enter a value\"))\n",
    "if a < 0 or a % 2 != 0 and a%4 == 0 :\n",
    "    print(pow(a,3))\n",
    "    print(a**3)"
   ]
  },
  {
   "cell_type": "code",
   "execution_count": 18,
   "metadata": {},
   "outputs": [
    {
     "name": "stdout",
     "output_type": "stream",
     "text": [
      "P\n"
     ]
    }
   ],
   "source": [
    "#18) WAP to check whether a given ascii value is divisible by 4 and even value. If satisfied\n",
    "#,to display the ascii character.\n",
    "a = int(input(\"Enter a value =\"))\n",
    "if a%4 == 0 and a%2 == 0 :\n",
    "    print(chr(a))"
   ]
  },
  {
   "cell_type": "code",
   "execution_count": 16,
   "metadata": {},
   "outputs": [
    {
     "name": "stdout",
     "output_type": "stream",
     "text": [
      "P\n"
     ]
    }
   ],
   "source": [
    "#19) WAP to check whether a given value is present in between 45 to 125 and the number\n",
    "#should be divisible by 4 and 5 and even value. If satisfied ,to display the ascii character.\n",
    "\n",
    "a = int(input(\"Enter the value =\"))\n",
    "if 45<=a<=125 and a%4 == 0 and a%5 == 0 and a%2 == 0 :\n",
    "    print(chr(a))"
   ]
  },
  {
   "cell_type": "code",
   "execution_count": 15,
   "metadata": {},
   "outputs": [
    {
     "name": "stdout",
     "output_type": "stream",
     "text": [
      "400\n"
     ]
    }
   ],
   "source": [
    "#20) WAP to check whether a given value is present in between 25 to 100 and the number\n",
    "#should be divisible by 4 and 5. If satisfied, to display multiplication of given value with 5.\n",
    "\n",
    "a = int(input(\"Enter the value =\"))\n",
    "if 25 <= a <=100 and a%4 == 0 and a%5 == 0 :\n",
    "    print(a*5)"
   ]
  },
  {
   "cell_type": "code",
   "execution_count": 32,
   "metadata": {},
   "outputs": [
    {
     "name": "stdout",
     "output_type": "stream",
     "text": [
      "4\n"
     ]
    }
   ],
   "source": [
    "#21) WAP to check whether a given number is an integer and odd number. If the condition\n",
    "#is satisfied, the integer is divisible by 5 and displays the result.\n",
    "\n",
    "a = int(input(\"enter a value\"))\n",
    "if type(a) == int and a%2 != 0 :\n",
    "    b = a%5\n",
    "    print(b)"
   ]
  },
  {
   "cell_type": "code",
   "execution_count": 2,
   "metadata": {},
   "outputs": [
    {
     "name": "stdout",
     "output_type": "stream",
     "text": [
      "<class 'str'> = 96\n"
     ]
    }
   ],
   "source": [
    "#22) WAP to check whether a given value is an integer or not. If integer, the given value is\n",
    "#converted to string and displays the result.\n",
    "\n",
    "a = int(input(\"enter a value =\"))\n",
    "if type(a) == int :\n",
    "    b = str(a)\n",
    "    print(type(b), \"=\",b)\n"
   ]
  },
  {
   "cell_type": "code",
   "execution_count": 4,
   "metadata": {},
   "outputs": [
    {
     "name": "stdout",
     "output_type": "stream",
     "text": [
      "l\n"
     ]
    }
   ],
   "source": [
    "#23) WAP to check whether a given value is less than 125 and greater than 60 or not. If the\n",
    "#condition is satisfied, take the name and extract the middle character and display it.\n",
    "a = int(input(\"enter a value\"))\n",
    "if 60<=a<=125 :\n",
    "    str = \"hello\"\n",
    "    print(str[len(str)//2:len(str)//2+1])"
   ]
  },
  {
   "cell_type": "code",
   "execution_count": 5,
   "metadata": {},
   "outputs": [
    {
     "name": "stdout",
     "output_type": "stream",
     "text": [
      "20\n"
     ]
    }
   ],
   "source": [
    "#24) WAP to check whether a given two integers are equal or not. If both are equal, to\n",
    "#perform addition and display the result.\n",
    "\n",
    "a = int(input(\"Enter a value =\"))\n",
    "b = int(input(\"Enter a value =\"))\n",
    "if a == b:\n",
    "    print(a+b)\n",
    "else:\n",
    "    print(\"not equal\")"
   ]
  },
  {
   "cell_type": "code",
   "execution_count": 6,
   "metadata": {},
   "outputs": [
    {
     "name": "stdout",
     "output_type": "stream",
     "text": [
      "1\n"
     ]
    }
   ],
   "source": [
    "#25) WAP to check whether two values are equal or not if equal to perform multiplication\n",
    "#and division by 3 and display the value.\n",
    "\n",
    "a = 20\n",
    "b = 20\n",
    "if a == b:\n",
    "    print(a*b%3)\n",
    "else:\n",
    "    print(\"not equal\")"
   ]
  },
  {
   "cell_type": "code",
   "execution_count": 8,
   "metadata": {},
   "outputs": [
    {
     "name": "stdout",
     "output_type": "stream",
     "text": [
      "{'z': 122}\n"
     ]
    }
   ],
   "source": [
    "#26) WAP to check whether a character is in the alphabet or not. If the alphabet, store the\n",
    "#value inside the dictionary(key as a character and value as an ascii value).\n",
    "a = 'z'\n",
    "d = {}\n",
    "if 'a'<= a <='z' or 'A'<='a'<='Z' :\n",
    "    d[a] = ord(a)\n",
    "    print(d)"
   ]
  },
  {
   "cell_type": "code",
   "execution_count": 9,
   "metadata": {},
   "outputs": [
    {
     "name": "stdout",
     "output_type": "stream",
     "text": [
      "True\n",
      "{'F': 70}\n"
     ]
    }
   ],
   "source": [
    "#27) WAP to check whether a character is in the uppercase or not. If the uppercase, store\n",
    "#the value inside the dictionary (key as a character and value as an ascii value).\n",
    "\n",
    "a = 'F'\n",
    "d = {}\n",
    "if 'A'<= a <='Z' :\n",
    "    print(True)\n",
    "    d[a] = ord(a)\n",
    "    print(d)"
   ]
  },
  {
   "cell_type": "code",
   "execution_count": 16,
   "metadata": {},
   "outputs": [
    {
     "name": "stdout",
     "output_type": "stream",
     "text": [
      "l\n",
      "{'l': 76}\n"
     ]
    }
   ],
   "source": [
    "#28) WAP to check whether a character is in the uppercase or not. If the uppercase, convert\n",
    "#to lowercase and store the value inside the dictionary (character as a key and ascii\n",
    "#value as a value).\n",
    " \n",
    "a = 'L'\n",
    "d = {}\n",
    "if 'A'<= a <='Z' :\n",
    "    d[chr(ord(a)+32)] = ord(a)\n",
    "    print(d)"
   ]
  },
  {
   "cell_type": "code",
   "execution_count": 3,
   "metadata": {},
   "outputs": [
    {
     "name": "stdout",
     "output_type": "stream",
     "text": [
      "helloworldhelloworldhelloworldhelloworldhelloworldhelloworldhelloworld\n"
     ]
    }
   ],
   "source": [
    "#29) WAP to check whether a character is in the lowercase or not. If the lowercase, to\n",
    "#perform the replication operation on that character.\n",
    "a = \"helloworld\"\n",
    "if len(a) > 0:\n",
    "    print(a*7)"
   ]
  },
  {
   "cell_type": "code",
   "execution_count": 2,
   "metadata": {},
   "outputs": [
    {
     "name": "stdout",
     "output_type": "stream",
     "text": [
      "8\n"
     ]
    }
   ],
   "source": [
    "#30) WAP to check whether a character is in the ascii number or not. If the ascii number, to\n",
    "#convert into integer.\n",
    "a = int(input(\"Enter a value =\"))\n",
    "if 0 <= a <= 9 :\n",
    "    b = int(a)\n",
    "    print(b)\n"
   ]
  },
  {
   "cell_type": "code",
   "execution_count": 3,
   "metadata": {},
   "outputs": [
    {
     "name": "stdout",
     "output_type": "stream",
     "text": [
      "Special character is =  ! 33\n"
     ]
    }
   ],
   "source": [
    "#31) WAP to check whether a character is in the special symbol or not. If the special symbol,\n",
    "#to display a symbol with ascii value.\n",
    "\n",
    "a = input(\"Enter a value\")\n",
    "if not('a'<= a <='z' and 'A'<= a <= 'Z' and 0 <= a <= 9) :\n",
    "    print(\"Special character is = \",a,ord(a))"
   ]
  },
  {
   "cell_type": "code",
   "execution_count": 7,
   "metadata": {},
   "outputs": [
    {
     "name": "stdout",
     "output_type": "stream",
     "text": [
      "Even number = 4\n"
     ]
    }
   ],
   "source": [
    "#32) WAP to check whether a character is an even number or not. If the even number, to\n",
    "#display an even number.\n",
    "a = int(input(\"enter a value\"))\n",
    "if a%2 == 0:\n",
    "    print (\"Even number =\",a)"
   ]
  },
  {
   "cell_type": "code",
   "execution_count": 6,
   "metadata": {},
   "outputs": [
    {
     "name": "stdout",
     "output_type": "stream",
     "text": [
      "the given value is vowel = i\n",
      "j\n"
     ]
    }
   ],
   "source": [
    "#33) WAP to check whether a character is in the vowel or not. If the vowel, print the next\n",
    "#character.\n",
    "\n",
    "a = input(\"Enter a value =\")\n",
    "if a in \"AEIOUaeiou\":\n",
    "    print(\"the given value is vowel =\",a)\n",
    "    print(chr(ord(a)+1))\n",
    "\n"
   ]
  },
  {
   "cell_type": "code",
   "execution_count": 10,
   "metadata": {},
   "outputs": [
    {
     "name": "stdout",
     "output_type": "stream",
     "text": [
      "the given value is vowel = t\n",
      "s\n"
     ]
    }
   ],
   "source": [
    "#34) WAP to check whether a character is in the not a vowel. If it's not a vowel, print the\n",
    "#previous character.\n",
    "\n",
    "a = input(\"Enter a value =\")\n",
    "if not(a in \"AEIOUaeiou\"):\n",
    "    print(\"the given value is vowel =\",a)\n",
    "    print(chr(ord(a)-1))\n",
    "    "
   ]
  },
  {
   "cell_type": "code",
   "execution_count": 12,
   "metadata": {},
   "outputs": [
    {
     "name": "stdout",
     "output_type": "stream",
     "text": [
      "The given value is single value data type = 10\n"
     ]
    }
   ],
   "source": [
    "#35) WAP to check whether a given value is a single value data type or not. If single value,\n",
    "#display the given value as a single value data type.\n",
    "\n",
    "a = 10\n",
    "if type(a) in (int,float,bool,bytes,complex):\n",
    "    print(\"The given value is single value data type =\",a)"
   ]
  },
  {
   "cell_type": "code",
   "execution_count": 14,
   "metadata": {},
   "outputs": [
    {
     "name": "stdout",
     "output_type": "stream",
     "text": [
      "The given value is multi value data type = (10, 20, 30, 'abc', {'a': 10, 'b': 20})\n"
     ]
    }
   ],
   "source": [
    "#36) WAP to check whether a given value is a multi-value data type or not. If multi value,\n",
    "#store the given value inside the tuple and display it.\n",
    "\n",
    "a = (10,20,30,'abc',{'a':10,'b':20})\n",
    "tup = tuple()\n",
    "if type(a) in (list,tuple,set,dict):\n",
    "    print(\"The given value is multi value data type =\",a)\n",
    "    tup = (a,)\n"
   ]
  },
  {
   "cell_type": "code",
   "execution_count": 15,
   "metadata": {},
   "outputs": [
    {
     "name": "stdout",
     "output_type": "stream",
     "text": [
      "{100, 40, 10, 20, 30}\n"
     ]
    }
   ],
   "source": [
    "#37) WAP to check whether a given value is an immutable data type or not. If an immutable\n",
    "#data type value, store the given value inside the set and display it.\n",
    "\n",
    "a = 100\n",
    "b = {10,20,30,40}\n",
    "if type(a) in (int,bytes,float,bool,set) :\n",
    "    c =list(b)\n",
    "    c = c + [a]\n",
    "    d = set(c)\n",
    "    print(d)\n"
   ]
  },
  {
   "cell_type": "code",
   "execution_count": 22,
   "metadata": {},
   "outputs": [
    {
     "ename": "TypeError",
     "evalue": "unsupported operand type(s) for %: 'list' and 'int'",
     "output_type": "error",
     "traceback": [
      "\u001b[1;31m---------------------------------------------------------------------------\u001b[0m",
      "\u001b[1;31mTypeError\u001b[0m                                 Traceback (most recent call last)",
      "Cell \u001b[1;32mIn[22], line 5\u001b[0m\n\u001b[0;32m      1\u001b[0m \u001b[39m#38) WAP to check whether the middle element of a given list is odd or not. If it is odd then\u001b[39;00m\n\u001b[0;32m      2\u001b[0m \u001b[39m#print odd then print the number else directly print the number\u001b[39;00m\n\u001b[0;32m      3\u001b[0m a \u001b[39m=\u001b[39m [\u001b[39m10\u001b[39m,\u001b[39m20\u001b[39m,\u001b[39m30\u001b[39m,\u001b[39m40\u001b[39m,\u001b[39m50\u001b[39m,\u001b[39m60\u001b[39m,\u001b[39m70\u001b[39m,\u001b[39m80\u001b[39m,\u001b[39m90\u001b[39m,\u001b[39m100\u001b[39m,\u001b[39m110\u001b[39m]\n\u001b[1;32m----> 5\u001b[0m \u001b[39mif\u001b[39;00m \u001b[39mnot\u001b[39;00m((a[\u001b[39mlen\u001b[39;49m(a)\u001b[39m/\u001b[39;49m\u001b[39m/\u001b[39;49m\u001b[39m2\u001b[39;49m:\u001b[39mlen\u001b[39;49m(a)\u001b[39m/\u001b[39;49m\u001b[39m/\u001b[39;49m\u001b[39m2\u001b[39;49m])\u001b[39m%\u001b[39;49m\u001b[39m2\u001b[39;49m \u001b[39m==\u001b[39m \u001b[39m0\u001b[39m) :\n\u001b[0;32m      6\u001b[0m     \u001b[39mprint\u001b[39m(a[\u001b[39mlen\u001b[39m(a)\u001b[39m/\u001b[39m\u001b[39m/\u001b[39m\u001b[39m2\u001b[39m:\u001b[39mlen\u001b[39m(a)\u001b[39m/\u001b[39m\u001b[39m/\u001b[39m\u001b[39m2\u001b[39m])\n\u001b[0;32m      7\u001b[0m \u001b[39melse\u001b[39;00m:\n",
      "\u001b[1;31mTypeError\u001b[0m: unsupported operand type(s) for %: 'list' and 'int'"
     ]
    }
   ],
   "source": [
    "#38) WAP to check whether the middle element of a given list is odd or not. If it is odd then\n",
    "#print odd then print the number else directly print the number\n",
    "a = [10,20,30,40,50,60,70,80,90,100,110]\n",
    "\n",
    "if not((a[len(a)//2:len(a)//2])%2 == 0) :\n",
    "    print(a[len(a)//2:len(a)//2])\n",
    "else:\n",
    "    print(a[len(a)//2])\n"
   ]
  },
  {
   "cell_type": "code",
   "execution_count": 23,
   "metadata": {},
   "outputs": [
    {
     "name": "stdout",
     "output_type": "stream",
     "text": [
      "140716301280328\n",
      "140716301280328\n"
     ]
    }
   ],
   "source": [
    "#39) WAP to check whether the two variables are pointing to the same memory location or\n",
    "#not if they are pointing to the same memory location then print the address of both the\n",
    "#variables.\n",
    "\n",
    "a = 10\n",
    "b = 10\n",
    "if id(a) == id(b) :\n",
    "    print(id(a))\n",
    "    print(id(b))"
   ]
  },
  {
   "cell_type": "code",
   "execution_count": 25,
   "metadata": {},
   "outputs": [
    {
     "name": "stdout",
     "output_type": "stream",
     "text": [
      "Helloworld\n"
     ]
    }
   ],
   "source": [
    "#40) WAP to check whether the given length of the string is even or not. If the condition is\n",
    "#satisfied, display the sequence of characters from zero position to length of collection\n",
    "#-2.\n",
    "\n",
    "a = \"Helloworld\"\n",
    "if len(a)%2 == 0 :\n",
    "    print(a[0:len(a):])\n",
    "    "
   ]
  },
  {
   "cell_type": "code",
   "execution_count": 26,
   "metadata": {},
   "outputs": [
    {
     "name": "stdout",
     "output_type": "stream",
     "text": [
      "world\n",
      "hello\n"
     ]
    }
   ],
   "source": [
    "#41) WAP to check whether the two given strings are having the same values or not. If both\n",
    "#are not the same values then swap the values of one variable to another variable after\n",
    "#swapping print the two values.\n",
    "\n",
    "a = \"hello\"\n",
    "b = \"world\"\n",
    "if a == b:\n",
    "    print(\"same\")\n",
    "else:\n",
    "    a,b = b,a\n",
    "    print(a)\n",
    "    print(b)"
   ]
  },
  {
   "cell_type": "code",
   "execution_count": 27,
   "metadata": {},
   "outputs": [
    {
     "name": "stdout",
     "output_type": "stream",
     "text": [
      "{'ab': 10, 'bc': 20, 'cd': 30, '!': 33}\n"
     ]
    }
   ],
   "source": [
    "#42) WAP to check whether a given character is a special symbol or not. If satisfied, store\n",
    "#the symbol as a key and value as a ascii value of the given character inside the\n",
    "#dictionary.\n",
    "\n",
    "a = input(\"Enter a value \")\n",
    "b = {'ab':10,'bc':20,'cd':30}\n",
    "if not('a'<= a <='z' or 'A'<= a <='Z' or '0'<= a <='9') :\n",
    "    b[a] = ord(a)\n",
    "    print(b)\n"
   ]
  },
  {
   "cell_type": "code",
   "execution_count": 28,
   "metadata": {},
   "outputs": [
    {
     "name": "stdout",
     "output_type": "stream",
     "text": [
      "positive\n"
     ]
    }
   ],
   "source": [
    "#43) WAP to check whether a number is positive or negative. If Positive print positive\n",
    "#message or else print Negative Number.\n",
    "\n",
    "a = int(input(\"Enter a value =\"))\n",
    "if a > 0:\n",
    "    print(\"positive\")\n",
    "else:\n",
    "    print(\"Negative\")"
   ]
  },
  {
   "cell_type": "code",
   "execution_count": 29,
   "metadata": {},
   "outputs": [
    {
     "name": "stdout",
     "output_type": "stream",
     "text": [
      "odd\n"
     ]
    }
   ],
   "source": [
    "#44) WAP to check whether a number is even or odd. If even, print message an even or else\n",
    "#print message as odd.\n",
    "a = int(input(\"Enter a value =\"))\n",
    "if a%2 == 0:\n",
    "    print(\"Even\")\n",
    "else:\n",
    "    print(\"odd\")"
   ]
  },
  {
   "cell_type": "code",
   "execution_count": 30,
   "metadata": {},
   "outputs": [
    {
     "name": "stdout",
     "output_type": "stream",
     "text": [
      "9\n"
     ]
    }
   ],
   "source": [
    "#45) Write a program to check whether a given number is greater than 10 or not. if it is\n",
    "#greater than 10 print message as greater and print that or else if that number is not\n",
    "#greater than 10 print that number.\n",
    "\n",
    "a = int(input(\"enter a value =\"))\n",
    "if a > 10:\n",
    "    print(\"Greater\")\n",
    "else:\n",
    "    print(a)"
   ]
  },
  {
   "cell_type": "code",
   "execution_count": 4,
   "metadata": {},
   "outputs": [
    {
     "name": "stdout",
     "output_type": "stream",
     "text": [
      "C\n"
     ]
    }
   ],
   "source": [
    "#46) WAP to check whether a given value is present in between 45 to 125. If value is present\n",
    "#print the ascii character.\n",
    "a = int(input(\"enter a value =\"))\n",
    "if 45<= a <=125 :\n",
    "    print(chr(a))\n",
    "    "
   ]
  },
  {
   "cell_type": "code",
   "execution_count": 5,
   "metadata": {},
   "outputs": [
    {
     "name": "stdout",
     "output_type": "stream",
     "text": [
      "400\n",
      "0\n"
     ]
    }
   ],
   "source": [
    "#47) WAP to accept two integers and check whether they are equal or not.\n",
    "#If equal, multiply to value or quotation value and display it.\n",
    "a = int(input(\"enter a value\"))\n",
    "b = int(input(\"enter a value\"))\n",
    "if a == b:\n",
    "    print(a*b)\n",
    "    print(a%b)"
   ]
  },
  {
   "cell_type": "code",
   "execution_count": 6,
   "metadata": {},
   "outputs": [
    {
     "name": "stdout",
     "output_type": "stream",
     "text": [
      "B is greater\n"
     ]
    }
   ],
   "source": [
    "#48) WAP to find the largest of two numbers.\n",
    "\n",
    "a = int(input(\"enter a value =\"))\n",
    "b = int(input(\"enter a value =\"))\n",
    "if a>b:\n",
    "    print(\"A is greater\")\n",
    "else:\n",
    "    print(\"B is greater\")\n",
    "    "
   ]
  },
  {
   "cell_type": "code",
   "execution_count": 33,
   "metadata": {},
   "outputs": [
    {
     "name": "stdout",
     "output_type": "stream",
     "text": [
      "B is greater\n"
     ]
    }
   ],
   "source": [
    "#49) WAP to find the smallest of two numbers.\n",
    "\n",
    "a = int(input(\"enter a value =\"))\n",
    "b = int(input(\"enter a value =\"))\n",
    "if a>b:\n",
    "    print(\"A is greater\")\n",
    "else:\n",
    "    print(\"B is greater\")"
   ]
  },
  {
   "cell_type": "code",
   "execution_count": 35,
   "metadata": {},
   "outputs": [
    {
     "name": "stdout",
     "output_type": "stream",
     "text": [
      "8\n"
     ]
    }
   ],
   "source": [
    "#50) WAP to check whether the given number is even or odd. If it is even then make it as an\n",
    "#odd number, if it is an odd number then make it as even number.\n",
    "a = int(input(\"Enter a value =\"))\n",
    "if a%2 == 0 :\n",
    "    print(a+1)\n",
    "else:\n",
    "    print(a+1)\n",
    "\n"
   ]
  },
  {
   "cell_type": "code",
   "execution_count": 36,
   "metadata": {},
   "outputs": [
    {
     "name": "stdout",
     "output_type": "stream",
     "text": [
      "15625\n"
     ]
    }
   ],
   "source": [
    "#51) WAP to check whether the given number lies between 1 to 19, if it is true square that\n",
    "#number or else false cube that number and display the number.\n",
    "a = int(input(\"Etner a value =\"))\n",
    "if 1< a <19:\n",
    "    print(pow(a,2))\n",
    "else:\n",
    "    print(pow(a,3))"
   ]
  },
  {
   "cell_type": "code",
   "execution_count": 38,
   "metadata": {},
   "outputs": [
    {
     "name": "stdout",
     "output_type": "stream",
     "text": [
      "8\n"
     ]
    }
   ],
   "source": [
    "#52) WAP to check whether a given value is even and in range of 47 to 58 and not in 0 or\n",
    "#odd. if condition is True, to perform display the ascii character or else to perform floor\n",
    "#division with 5 and display it.\n",
    "a = int(input(\"enter a value =\"))\n",
    "if 47 < a < 58 and a%2 == 0 and not(a == 0) :\n",
    "    print(chr(a))\n",
    "else:\n",
    "    print(a//2)"
   ]
  },
  {
   "cell_type": "code",
   "execution_count": 42,
   "metadata": {},
   "outputs": [
    {
     "name": "stdout",
     "output_type": "stream",
     "text": [
      "{'a': 10, 'b': 20, 'c': 30, 78: 'N'}\n"
     ]
    }
   ],
   "source": [
    "#53) WAP to check whether a given value is less than 125 and in between 47 to 125 or not.\n",
    "#if condition is True, to perform store the given value as key and value as a character\n",
    "#into the dictionary or else to append the value in list and display it.\n",
    "\n",
    "a = int(input(\"enter a value =\"))\n",
    "d = {'a':10,'b':20,'c':30}\n",
    "l = [10,20,30,40]\n",
    "if 47 <= a <=125 :\n",
    "    d[a] =(chr(a))\n",
    "    print(d)\n",
    "else:\n",
    "    l = l + [a]\n",
    "    print(l)\n"
   ]
  },
  {
   "cell_type": "code",
   "execution_count": 46,
   "metadata": {},
   "outputs": [
    {
     "name": "stdout",
     "output_type": "stream",
     "text": [
      "Alphabet = q\n"
     ]
    }
   ],
   "source": [
    "#54) WAP to check whether a given character is in the alphabet or not. if alphabet, display\n",
    "#the alphabet with character or else display the not alphabet with character.\n",
    "a = input(\"enter a value =\")\n",
    "if 'a'<= a <='z' or 'A'<= a <= 'Z':\n",
    "    print(\"Alphabet =\",a)\n",
    "else:\n",
    "    b = int(a)\n",
    "    print(\"Not Alphabet =\",a)"
   ]
  },
  {
   "cell_type": "code",
   "execution_count": 8,
   "metadata": {},
   "outputs": [
    {
     "name": "stdout",
     "output_type": "stream",
     "text": [
      "Uppercase = A\n"
     ]
    }
   ],
   "source": [
    "#55) WAP to check whether a given character is uppercase or other character. if uppercase,\n",
    "#display the uppercase with character or else display the other character with\n",
    "#character.\n",
    "a = input(\"Enter a value =\")\n",
    "if 'A' <= a <= 'Z':\n",
    "    print(\"Uppercase =\",a)\n",
    "else:\n",
    "    print(\"other character =\",a)"
   ]
  },
  {
   "cell_type": "code",
   "execution_count": 9,
   "metadata": {},
   "outputs": [
    {
     "name": "stdout",
     "output_type": "stream",
     "text": [
      "Lower case = l\n"
     ]
    }
   ],
   "source": [
    "#56) WAP to check whether a given character is lowercase or other character. if lowercase,\n",
    "#display the lowercase with character or else display the other character with character.\n",
    "a = input(\"enter a value =\")\n",
    "if 'a'<= a <= 'z' :\n",
    "    print(\"Lower case =\",a)\n",
    "else:\n",
    "    print(\"other character =\",a)"
   ]
  },
  {
   "cell_type": "code",
   "execution_count": 11,
   "metadata": {},
   "outputs": [
    {
     "name": "stdout",
     "output_type": "stream",
     "text": [
      "99\n"
     ]
    }
   ],
   "source": [
    "#57) WAP to check whether a given character is uppercase or other character. if uppercase,\n",
    "#convert to lowercase .or else display the ascii number.\n",
    "a = input(\"enter a value =\")\n",
    "if 'A'<= a <= 'Z' :\n",
    "    print(chr(ord(a)+32))\n",
    "else:\n",
    "    print(ord(a))"
   ]
  },
  {
   "cell_type": "code",
   "execution_count": 13,
   "metadata": {},
   "outputs": [
    {
     "name": "stdout",
     "output_type": "stream",
     "text": [
      "D\n"
     ]
    }
   ],
   "source": [
    "#58) WAP to check whether the given character is in lowercase or uppercase. If it is in\n",
    "#lowercase, convert it into uppercase, or else it is in uppercase and convert it into\n",
    "#lowercase. Display the value.\n",
    "\n",
    "a = input(\"enter a value =\")\n",
    "if 'A'<= a <= 'Z' :\n",
    "    print(chr(ord(a)+32))\n",
    "else:\n",
    "    print(chr(ord(a)-32))"
   ]
  },
  {
   "cell_type": "code",
   "execution_count": 14,
   "metadata": {},
   "outputs": [
    {
     "name": "stdout",
     "output_type": "stream",
     "text": [
      "the given character is vowel = i\n",
      "j\n"
     ]
    }
   ],
   "source": [
    "#59) WAP to check whether a given character is a vowel or consonant. if vowel, to print the\n",
    "#next character of a given character or else print previous characters.\n",
    "\n",
    "a = input(\"Enter a value =\")\n",
    "if a in (\"AEIOUaeiou\"):\n",
    "    print(chr(ord(a)+1))\n",
    "else:\n",
    "    print(chr(ord(a)-1))"
   ]
  },
  {
   "cell_type": "code",
   "execution_count": 17,
   "metadata": {},
   "outputs": [
    {
     "name": "stdout",
     "output_type": "stream",
     "text": [
      "dlrowolleh\n"
     ]
    }
   ],
   "source": [
    "#60) WAP to check whether a given string of first character is alphabet or not\n",
    "#if the alphabet prints, reverse the string or else print the middle character.\n",
    "a = \"helloworld\"\n",
    "b = a[0]\n",
    "if type(b) == str:\n",
    "    print(a[::-1])\n",
    "else:\n",
    "    print(a[len(a)//2])\n"
   ]
  },
  {
   "cell_type": "code",
   "execution_count": 27,
   "metadata": {},
   "outputs": [
    {
     "name": "stdout",
     "output_type": "stream",
     "text": [
      "a e\n",
      "\n"
     ]
    }
   ],
   "source": [
    "#61) WAP to check whether a given string is even length or not. if even, to append the new\n",
    "#string called \"bye\" or else print the first and last characters.\n",
    "\n",
    "a = input(\"enter a val =\")\n",
    "if len(a)%2 == 0:\n",
    "    b = a + 'bye'\n",
    "    print(b)\n",
    "else:\n",
    "    print(a[0],a[-1])"
   ]
  },
  {
   "cell_type": "code",
   "execution_count": 29,
   "metadata": {},
   "outputs": [
    {
     "name": "stdout",
     "output_type": "stream",
     "text": [
      "leap year\n"
     ]
    }
   ],
   "source": [
    "#62) WAP to check whether a given year is a leap year or not. if leap year, print leap year\n",
    "#or else not a leap year.\n",
    "a = int(input(\"Enter a val =\"))\n",
    "if a%4 == 0:\n",
    "    print(\"leap year\")\n",
    "else:\n",
    "    print(\"not a leap year\")"
   ]
  },
  {
   "cell_type": "code",
   "execution_count": 30,
   "metadata": {},
   "outputs": [
    {
     "name": "stdout",
     "output_type": "stream",
     "text": [
      "B is greater = 45\n"
     ]
    }
   ],
   "source": [
    "#63) WAP to find out the greatest of two numbers and display the greatest number. if the\n",
    "#greatest number, display the greatest message with value.\n",
    "a = int(input(\"enter a val =\"))\n",
    "b = int(input(\"enter a val =\"))\n",
    "if a>b:\n",
    "    print(\"A is greater =\",a)\n",
    "else:\n",
    "    print(\"B is greater =\",b)"
   ]
  },
  {
   "cell_type": "code",
   "execution_count": 35,
   "metadata": {},
   "outputs": [
    {
     "name": "stdout",
     "output_type": "stream",
     "text": [
      "<class 'str'>\n"
     ]
    }
   ],
   "source": [
    "#64) WAP to check whether the given value is present inside the given collection or not. if\n",
    "#value is present, display the value is available or else the value is not present.\n",
    "a = {'a':10,'b':20,'c':(11,12,13),'d':{111,222,333}}\n",
    "b = (input(\"Enter a value =\"))\n",
    "c = type(b)\n",
    "\n",
    "if c in a:\n",
    "    print(\"true\")"
   ]
  },
  {
   "cell_type": "code",
   "execution_count": null,
   "metadata": {},
   "outputs": [],
   "source": [
    "#65) WAP to check whether a given value is a list and first and last values should be integer,\n",
    "#if condition is satisfied first value is divisible by 5 and perform the bitwise not for last\n",
    "#value and values are stored in same positions in list or else 2 power length of the\n",
    "#collection and display it.\n",
    "\n",
    "a = input(\"Enter a value =\")\n",
    "b = type(a)\n",
    "if type(b) == list  and b[0:-1] == int:\n",
    "    print(\"true\")\n"
   ]
  },
  {
   "cell_type": "code",
   "execution_count": null,
   "metadata": {},
   "outputs": [],
   "source": [
    "#66) WAP to check if the given string of first and second character should be sequence or\n",
    "#not. if the sequence prints the first, second and last two characters, or else the first half\n",
    "#string is reversed and the remaining half string should be normal and display it.\n",
    "a = \"bacdefg\"\n",
    "if a[0] < a[1]:\n",
    "    print(a[0],a[1],a[len(a)-1],a[len(a)-2])\n",
    "else :\n",
    "    print(a[len(a):len(a)-1:-1])\n",
    "    b = a[len(a)//2:-len(a)-1:-1]\n",
    "    print(b)\n",
    "\n"
   ]
  },
  {
   "cell_type": "code",
   "execution_count": null,
   "metadata": {},
   "outputs": [],
   "source": [
    "#67) WAP to check whether a given key is present in the dictionary or not. if key is present:\n",
    "#display the value or else add key and new value inside the dict.\n",
    "a = {'a':10,'b':20,'c':30,'d':40}\n",
    "b = 'e'\n",
    "if b in a.keys():\n",
    "    print(a[b])\n",
    "else:\n",
    "    a[b] = 50\n",
    "    print(a)"
   ]
  },
  {
   "cell_type": "code",
   "execution_count": null,
   "metadata": {},
   "outputs": [],
   "source": [
    "#68) WAP to check whether a given collection is set or not. if set, append the new value, or\n",
    "#else eliminate the duplicate values in collection. final results should be set type.\n",
    "a = {10,20,30,40,40,20}\n",
    "if type(a) == set:\n",
    "    b = list(a)\n",
    "    b += [10]\n",
    "    print(b)\n",
    "    c = set(b)\n",
    "    print(c)\n"
   ]
  },
  {
   "cell_type": "code",
   "execution_count": null,
   "metadata": {},
   "outputs": [],
   "source": [
    "#69) WAP to read the age of a candidate and determine whether it is eligible for his/her\n",
    "#own vote or not.it eligible print age and eligible messages or else print not eligible.\n",
    "a = int(input(\"Enter a value =\"))\n",
    "if a > 18:\n",
    "    print(\"Eligible for vote and Age =\",a)\n",
    "else:\n",
    "    print(\"Not eligible\")"
   ]
  },
  {
   "cell_type": "code",
   "execution_count": null,
   "metadata": {},
   "outputs": [],
   "source": [
    "#70) WAP to check whether a given value is even and in between 47 to 58 and not in 0 or\n",
    "#odd. if condition is True, to perform display the ascii character. or else to perform\n",
    "#floor division with 5 and display it.\n",
    "a = int(input(\"Enter a value\"))\n",
    "if a%2 == 0 and 47 > a > 58 and a !=0 :\n",
    "    print(chr(a))\n",
    "else:\n",
    "    print(a//5)"
   ]
  },
  {
   "cell_type": "code",
   "execution_count": null,
   "metadata": {},
   "outputs": [],
   "source": [
    "#71) WAP to check whether the given string is palindrome or not if it is a palindrome string\n",
    "#palindrome along with the string if it is not a palindrome print not palindrome\n",
    "a = \"madam\"\n",
    "print(a[0:len(a):1])\n",
    "print(a[len(a):-len(a)-1:-1])\n",
    "if a[0:len(a)+1:1] == a[len(a):-len(a)-1:-1]:\n",
    "    print(\"palindrome\")\n",
    "else:\n",
    "    print(\"Not Palindrome\")"
   ]
  },
  {
   "cell_type": "code",
   "execution_count": null,
   "metadata": {},
   "outputs": [],
   "source": [
    "#72) WAP to check whether a given number is palindrome or not. If palindrome, display\n",
    "#the given value as a palindrome or else not a palindrome.\n",
    "a = 121\n",
    "b = str(a)\n",
    "if b == b[::-1] :\n",
    "    print (\"Palindrome\")"
   ]
  },
  {
   "cell_type": "code",
   "execution_count": null,
   "metadata": {},
   "outputs": [],
   "source": [
    "#73) WAP to check length of both string collections equal or not if both are equal print the\n",
    "#concat the two strings and display, or else if any one of the collection not equal print\n",
    "#both the collections with lengths\n",
    "a = \"desktop\"\n",
    "b = \"asdfghjaa\"\n",
    "if len(a) == len(b):\n",
    "    print(a+b)\n",
    "else:\n",
    "    print(\"Length of collection =\",len(a),a)\n",
    "    print(\"Length of collection =\",len(b),b)"
   ]
  },
  {
   "cell_type": "code",
   "execution_count": null,
   "metadata": {},
   "outputs": [],
   "source": [
    "#74) WAP to check whether both given values point to the same memory location or not. if\n",
    "#it is true print the middle item of the second collection, or else if it is false print the first\n",
    "#item and last item of the first collection along with the memory address.\n",
    "a = \"helloo\"\n",
    "b = \"hellodhrthbfgnsrtsfnsfggnsfs\"\n",
    "if id(a) == id(b):\n",
    "    print(b[len(b)//2])\n",
    "else:\n",
    "    print(b[0:0+1:1],id(b[0:0+1:1]))\n",
    "    print(b[-1:-1-1:-1],id(b[-1:-1-1:-1]))\n",
    "    "
   ]
  },
  {
   "cell_type": "code",
   "execution_count": null,
   "metadata": {},
   "outputs": [],
   "source": [
    "#75) WAP to check whether a given string collection is more than ten, and the first + last\n",
    "#character of the ascii values should be divisible by 5, if condition is satisfied print first,\n",
    "#middle and last characters ASCII values or else print the string three times.\n",
    "a = \"ecdefghijklm\"\n",
    "if len(a) > 10 :\n",
    "    b = ord(a[0]) + ord(a[-1])\n",
    "    print(b)\n",
    "    if  b%5 == 0:\n",
    "        print(a[0:0+1:1])\n",
    "        print(a[len(a)//2])\n",
    "        print(a[-1:-1-1:-1])\n"
   ]
  },
  {
   "cell_type": "code",
   "execution_count": null,
   "metadata": {},
   "outputs": [],
   "source": [
    "#76) WAP to check whether the middle of the item present in the list is string data type or\n",
    "#not if it is string print that list or else if it is not string then print that middle item.\n",
    "a = [10,20,\"hello\",30,40]\n",
    "b = a[len(a)//2]\n",
    "if type(b) == str:\n",
    "    print(b)\n",
    "else:\n",
    "    print(b)"
   ]
  },
  {
   "cell_type": "code",
   "execution_count": null,
   "metadata": {},
   "outputs": [],
   "source": [
    "#77) WAP to check whether a given value is positive or negative or neutral. if positive,\n",
    "#display the positive with value or negative display the negative with value or else\n",
    "#display the neutral with value.\n",
    "a = int(input(\"Enter a value =\"))\n",
    "if a > 0 :\n",
    "    print(\"The given value is positive =\",a)\n",
    "elif a < 0:\n",
    "    print(\"The given value is negative =\",a)\n",
    "else:\n",
    "    print(\"the given number is neutral =\",a)\n"
   ]
  },
  {
   "cell_type": "code",
   "execution_count": null,
   "metadata": {},
   "outputs": [],
   "source": [
    "#78) WAP to find out the greatest of three numbers, and display the greatest number.\n",
    "a = 90\n",
    "b = 40\n",
    "c = 30\n",
    "if a > b and a > c :\n",
    "    print(\"a is greater =\",a)\n",
    "elif b > a and b > c :\n",
    "    print(\"b is greater =\",b)\n",
    "else:\n",
    "    print(\"c is greater =\",c)"
   ]
  },
  {
   "cell_type": "code",
   "execution_count": null,
   "metadata": {},
   "outputs": [],
   "source": [
    "#79) Write a program to check whether a given number is divisible by 3 and 5. if the number\n",
    "#divisible by 3 print fizz, if the number divisible by 5 print ‘buzz’ if it is divisible by both\n",
    "#then print fizz buzz\n",
    "a = int(input(\"enter a value =\"))\n",
    "if a%3 == 0 and a%5 == 0 :\n",
    "    print(\"Fizz buzz\")\n",
    "elif a%5 == 0:\n",
    "    print(\"buzz\")\n",
    "elif a%3 == 0 :\n",
    "    print(\"fizz\")\n",
    "    "
   ]
  },
  {
   "cell_type": "code",
   "execution_count": null,
   "metadata": {},
   "outputs": [],
   "source": [
    "#80) WAP to find out the relationship between two values and display the relationship.\n",
    "a = 101\n",
    "b = 20\n",
    "if a == b:\n",
    "    print(\"Equal\")\n",
    "elif a > b:\n",
    "    print(\" a is greater than b\")\n",
    "else:\n",
    "    print(\"b is greater than a\")"
   ]
  },
  {
   "cell_type": "code",
   "execution_count": null,
   "metadata": {},
   "outputs": [],
   "source": [
    "#81) Write a program to check if a given number is one digit or two digit or three digit\n",
    "#for more than 3 digit, if one digit displays the one digit value, if two digit displays the\n",
    "#two digit value and so on.\n",
    "a = int(input(\"enter a value =\"))\n",
    "if 1 <= a <= 9:\n",
    "    print(\"sinlge digit =\",a)\n",
    "elif 10 <= a <= 99:\n",
    "    print(\"Double digit =\",a)\n",
    "elif 100 <= a <= 999:\n",
    "    print(\"triple digit =\",a)\n",
    "else:\n",
    "    print(\"greater than 3 digits\",a)"
   ]
  },
  {
   "cell_type": "code",
   "execution_count": null,
   "metadata": {},
   "outputs": [],
   "source": [
    "#82) WAP to check whether a given character is an alphabet or ascii number or special\n",
    "#character or invalid. if alphabet, display the alphabet with character or elif ascii\n",
    "#number display the ascii number with character, or else display the special character\n",
    "#with character.\n",
    "a = 2\n",
    "if 'a' <= a <= 'z' or 'A' <= a <= 'Z'  :\n",
    "    print(\"Alphabet =\",a)\n",
    "elif  0 <= a <= 9 :\n",
    "    print(\"Ascii number and its character is =\",chr(a))\n",
    "elif not('a' <= a <= 'z' or 'A' <= a <= 'Z' or 0 <= a <= 9):\n",
    "    print(\"Special character =\",a)\n",
    "else:\n",
    "    print(\"invalid\")"
   ]
  },
  {
   "cell_type": "code",
   "execution_count": null,
   "metadata": {},
   "outputs": [],
   "source": [
    "#83) Write a program to accept any number from 1-5 and display that number in word form."
   ]
  },
  {
   "cell_type": "code",
   "execution_count": null,
   "metadata": {},
   "outputs": [],
   "source": [
    "#84) Write a program to accept any number from 1-5 and display that number in word form."
   ]
  },
  {
   "cell_type": "code",
   "execution_count": null,
   "metadata": {},
   "outputs": [],
   "source": [
    "#85) WAP to check whether a given character is uppercase or lowercase or special\n",
    "#character. if uppercase, convert to lower case or elif lowercase, convert to uppercase\n",
    "#or else display the previous, given and next characters and display it.\n",
    "a = 'F'\n",
    "if 'a'<= a <= 'z':\n",
    "    b = chr(ord(a) - 32)\n",
    "\n",
    "    print(\"Converted to lowecase =\",b)\n",
    "elif 'A' <= a <= 'Z':\n",
    "    b = chr(ord(a) +32)\n",
    "    \n",
    "    print(\"Converted to uppercase =\",b)\n",
    "else:\n",
    "    b = chr(ord(a) - 1)\n",
    "    print(\"Previous character =\",b)\n",
    "    c = chr(ord(a)+1)\n",
    "    print(\"Next character is =\",c)"
   ]
  },
  {
   "cell_type": "code",
   "execution_count": null,
   "metadata": {},
   "outputs": [],
   "source": [
    "#86) WAP to check whether the given character is in lowercase or uppercase, numeric or\n",
    "#special characters. Display the what type of case.\n",
    "a = 10\n",
    "print(a)"
   ]
  },
  {
   "cell_type": "code",
   "execution_count": null,
   "metadata": {},
   "outputs": [],
   "source": [
    "#87) WAP to perform arithmetic operations depends on a user choice."
   ]
  },
  {
   "cell_type": "code",
   "execution_count": null,
   "metadata": {},
   "outputs": [],
   "source": [
    "#88) WAP to check whether a given collection is a list or tuple or set or character string.\n",
    "#if list, append the new value in middle of the list,\n",
    "#if tuple, append the new value in starting of the tuple\n",
    "#if set, append the new value in set, or else append a new key as given character and\n",
    "#values as an ascii value with character."
   ]
  },
  {
   "cell_type": "code",
   "execution_count": null,
   "metadata": {},
   "outputs": [],
   "source": [
    "#89) WAP to check whether a given value is a integer or float or string or other, if integer,\n",
    "#given value division by 5 and display the quotient,\n",
    "#if float, perform the bitwise or operation with 15, if string, extract for last position value\n",
    "#and store it in first positions of the string, else store the value in the list and display the\n",
    "#result."
   ]
  },
  {
   "cell_type": "code",
   "execution_count": null,
   "metadata": {},
   "outputs": [],
   "source": [
    "#90) WAP to check whether the given input alphabet present in a collection or not if it is\n",
    "#present in the collection check whether that alphabet is uppercase or lowercase if it is\n",
    "#uppercase convert it into lowercase and vice versa if the alphabet not present in the\n",
    "#collection print invalid"
   ]
  },
  {
   "cell_type": "code",
   "execution_count": null,
   "metadata": {},
   "outputs": [],
   "source": [
    "#91) WAP to check whether the given input character is present in a given string collection\n",
    "#or not."
   ]
  }
 ],
 "metadata": {
  "kernelspec": {
   "display_name": "Python 3",
   "language": "python",
   "name": "python3"
  },
  "language_info": {
   "codemirror_mode": {
    "name": "ipython",
    "version": 3
   },
   "file_extension": ".py",
   "mimetype": "text/x-python",
   "name": "python",
   "nbconvert_exporter": "python",
   "pygments_lexer": "ipython3",
   "version": "3.11.1"
  },
  "orig_nbformat": 4,
  "vscode": {
   "interpreter": {
    "hash": "875bcf332de9c2a2aaf00f60374e87b85b3e6db2370b8fd7ed9ed4f6acfde3c6"
   }
  }
 },
 "nbformat": 4,
 "nbformat_minor": 2
}
