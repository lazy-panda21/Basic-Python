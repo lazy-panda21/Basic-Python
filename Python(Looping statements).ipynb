{
 "cells": [
  {
   "cell_type": "code",
   "execution_count": 22,
   "metadata": {},
   "outputs": [
    {
     "name": "stdout",
     "output_type": "stream",
     "text": [
      "Hello World\n",
      "Hello World\n",
      "Hello World\n",
      "Hello World\n",
      "Hello World\n"
     ]
    }
   ],
   "source": [
    "#1.WAP to print the “hello world” for 5 times by using a while loop.\n",
    "a = 1\n",
    "while a<=5:\n",
    "    print(\"Hello World\")\n",
    "    a += 1\n",
    "    "
   ]
  },
  {
   "cell_type": "code",
   "execution_count": 23,
   "metadata": {},
   "outputs": [
    {
     "name": "stdout",
     "output_type": "stream",
     "text": [
      "Hello world 1\n",
      "Hello world 2\n",
      "Hello world 3\n",
      "Hello world 4\n",
      "Hello world 5\n"
     ]
    }
   ],
   "source": [
    "#1.WAP to print the “hello world” for 5 times by using a while loop using recursion.\n",
    "def sample(n):\n",
    "    if n == 6 :\n",
    "        return\n",
    "    print(\"Hello world\",n)\n",
    "    sample(n+1)\n",
    "sample(1)\n"
   ]
  },
  {
   "cell_type": "code",
   "execution_count": 24,
   "metadata": {},
   "outputs": [
    {
     "name": "stdout",
     "output_type": "stream",
     "text": [
      "1\n",
      "2\n",
      "3\n",
      "4\n",
      "5\n",
      "6\n",
      "7\n",
      "8\n",
      "9\n",
      "10\n"
     ]
    }
   ],
   "source": [
    "#2.WAP to print the number from 1 to 10 by using a while loop.\n",
    "i = 1 \n",
    "while i <= 10:\n",
    "    print(i)\n",
    "    i += 1"
   ]
  },
  {
   "cell_type": "code",
   "execution_count": 25,
   "metadata": {},
   "outputs": [
    {
     "name": "stdout",
     "output_type": "stream",
     "text": [
      "1\n",
      "2\n",
      "3\n",
      "4\n",
      "5\n",
      "6\n",
      "7\n",
      "8\n",
      "9\n",
      "10\n"
     ]
    }
   ],
   "source": [
    "#2.WAP to print the number from 1 to 10 by using a while loop using recursion.\n",
    "def number(n):\n",
    "    if n == 11:\n",
    "        return\n",
    "    print(n)\n",
    "    number(n+1)\n",
    "number(1)"
   ]
  },
  {
   "cell_type": "code",
   "execution_count": 26,
   "metadata": {},
   "outputs": [],
   "source": [
    "#3.WAP to print the natural number until to nth times by using a while loop.\n",
    "a = int(input(\"Enter a number\"))\n",
    "i = 0\n",
    "while i <= a :\n",
    "    print(i)\n",
    "    i += 1"
   ]
  },
  {
   "cell_type": "code",
   "execution_count": null,
   "metadata": {},
   "outputs": [
    {
     "name": "stdout",
     "output_type": "stream",
     "text": [
      "1\n",
      "2\n",
      "3\n",
      "4\n",
      "5\n",
      "6\n",
      "7\n",
      "8\n",
      "9\n",
      "10\n",
      "11\n",
      "12\n",
      "13\n",
      "14\n",
      "15\n"
     ]
    }
   ],
   "source": [
    "#3.WAP to print the natural number until to nth times by using a while loop using recursion.\n",
    "a = int(input(\"Enter a number =\"))\n",
    "def sample(n,a):\n",
    "    if n == a+1:\n",
    "        return\n",
    "    print(n)\n",
    "    sample(n+1,a)\n",
    "sample(1,a)\n"
   ]
  },
  {
   "cell_type": "code",
   "execution_count": null,
   "metadata": {},
   "outputs": [
    {
     "name": "stdout",
     "output_type": "stream",
     "text": [
      "10\n",
      "9\n",
      "8\n",
      "7\n",
      "6\n",
      "5\n",
      "4\n",
      "3\n",
      "2\n",
      "1\n",
      "0\n"
     ]
    }
   ],
   "source": [
    "#4.WAP to print the reverse natural number nth to 0 times by using a while loop.\n",
    "a = int(input(\"Enter a number\"))\n",
    "while a >= 0 :\n",
    "    print(a)\n",
    "    a -= 1"
   ]
  },
  {
   "cell_type": "code",
   "execution_count": null,
   "metadata": {},
   "outputs": [
    {
     "name": "stdout",
     "output_type": "stream",
     "text": [
      "15\n",
      "14\n",
      "13\n",
      "12\n",
      "11\n",
      "10\n",
      "9\n",
      "8\n",
      "7\n",
      "6\n",
      "5\n",
      "4\n",
      "3\n",
      "2\n",
      "1\n"
     ]
    }
   ],
   "source": [
    "#4.WAP to print the reverse natural number nth to 0 times by using recursion.\n",
    "a = int(input(\"Enter a number =\"))\n",
    "def sample(n,a):\n",
    "    if n == a+1:\n",
    "        return\n",
    "    print(a)\n",
    "    sample(n,a-1)\n",
    "sample(1,a)\n"
   ]
  },
  {
   "cell_type": "code",
   "execution_count": null,
   "metadata": {},
   "outputs": [
    {
     "name": "stdout",
     "output_type": "stream",
     "text": [
      "0\n",
      "1\n",
      "2\n",
      "3\n",
      "4\n",
      "5\n"
     ]
    }
   ],
   "source": [
    "#5.WAP to print the whole number until nth times by using a while loop.\n",
    "a = input(\"Enter a number\")\n",
    "b = int(a)\n",
    "i = 0\n",
    "while i <= b :\n",
    "    print(i)\n",
    "    i += 1"
   ]
  },
  {
   "cell_type": "code",
   "execution_count": null,
   "metadata": {},
   "outputs": [
    {
     "name": "stdout",
     "output_type": "stream",
     "text": [
      "0\n",
      "1\n",
      "2\n",
      "3\n",
      "4\n",
      "5\n",
      "6\n"
     ]
    }
   ],
   "source": [
    "#5.WAP to print the whole number until nth times by using recursion.\n",
    "a = int(input(\"Enter a number =\"))\n",
    "def sample(n,a):\n",
    "    if n == a+1:\n",
    "        return\n",
    "    print(n)\n",
    "    sample(n+1,a)\n",
    "sample(0,a)\n"
   ]
  },
  {
   "cell_type": "code",
   "execution_count": null,
   "metadata": {},
   "outputs": [
    {
     "name": "stdout",
     "output_type": "stream",
     "text": [
      "5\n",
      "4\n",
      "3\n",
      "2\n",
      "1\n",
      "0\n"
     ]
    }
   ],
   "source": [
    "#6.WAP to print the reverse of the whole number until nth times by using a while loop.\n",
    "a = int(input(\"Enter a number = \"))\n",
    "while a >= 0:\n",
    "    print(a)\n",
    "    a-=1\n",
    "    "
   ]
  },
  {
   "cell_type": "code",
   "execution_count": null,
   "metadata": {},
   "outputs": [
    {
     "name": "stdout",
     "output_type": "stream",
     "text": [
      "10\n",
      "9\n",
      "8\n",
      "7\n",
      "6\n",
      "5\n",
      "4\n",
      "3\n",
      "2\n",
      "1\n",
      "0\n"
     ]
    }
   ],
   "source": [
    "#6.WAP to print the reverse of the whole number until nth times by using recursion.\n",
    "a = int(input(\"Enter a number =\"))\n",
    "def sample(n,a):\n",
    "    if n == a+1:\n",
    "        return\n",
    "    print(a)\n",
    "    sample(n,a-1)\n",
    "sample(0,a)\n"
   ]
  },
  {
   "cell_type": "code",
   "execution_count": null,
   "metadata": {},
   "outputs": [
    {
     "name": "stdout",
     "output_type": "stream",
     "text": [
      "Even number = 2\n",
      "Even number = 4\n",
      "Even number = 6\n",
      "Even number = 8\n",
      "Even number = 10\n",
      "Even number = 12\n",
      "Even number = 14\n",
      "Even number = 16\n",
      "Even number = 18\n",
      "Even number = 20\n"
     ]
    }
   ],
   "source": [
    "#7.WAP to print the even number until  nth times by using a while loop.\n",
    "a = int(input(\"Enter a number\"))\n",
    "i = 1\n",
    "while i <= a : \n",
    "    if i%2 == 0 :\n",
    "        print(\"Even number =\",i)\n",
    "    i += 1\n"
   ]
  },
  {
   "cell_type": "code",
   "execution_count": null,
   "metadata": {},
   "outputs": [
    {
     "name": "stdout",
     "output_type": "stream",
     "text": [
      "0\n",
      "2\n",
      "4\n",
      "6\n",
      "8\n",
      "10\n",
      "12\n",
      "14\n",
      "16\n",
      "18\n",
      "20\n"
     ]
    }
   ],
   "source": [
    "#7.WAP to print the even number until  nth times by using recursion.\n",
    "def even_number(s,n):\n",
    "    if s == n+2 :\n",
    "        return\n",
    "    print(s)\n",
    "    even_number(s+2,n)\n",
    "even_number(0,20) \n"
   ]
  },
  {
   "cell_type": "code",
   "execution_count": null,
   "metadata": {},
   "outputs": [
    {
     "name": "stdout",
     "output_type": "stream",
     "text": [
      "Even number = 20\n",
      "Even number = 18\n",
      "Even number = 16\n",
      "Even number = 14\n",
      "Even number = 12\n",
      "Even number = 10\n",
      "Even number = 8\n",
      "Even number = 6\n",
      "Even number = 4\n",
      "Even number = 2\n"
     ]
    }
   ],
   "source": [
    "#8. WAP to print reserve the even number until nth times by using a while loop.\n",
    "a = int(input(\"Enter a number\"))\n",
    "i = 1\n",
    "while i <= a : \n",
    "    if a%2 == 0 :\n",
    "        print(\"Even number =\",a)\n",
    "    a -= 1"
   ]
  },
  {
   "cell_type": "code",
   "execution_count": null,
   "metadata": {},
   "outputs": [
    {
     "name": "stdout",
     "output_type": "stream",
     "text": [
      "Even number = 10\n",
      "Even number = 8\n",
      "Even number = 6\n",
      "Even number = 4\n",
      "Even number = 2\n"
     ]
    }
   ],
   "source": [
    "#8. WAP to print reserve the even number until nth times by using recursion.\n",
    "def even_numbers(s,e):\n",
    "    if s == e-1:\n",
    "        return\n",
    "    if s%2 == 0:\n",
    "        print(\"Even number =\",s)\n",
    "    return even_numbers(s-1,e)\n",
    "even_numbers(10,1)"
   ]
  },
  {
   "cell_type": "code",
   "execution_count": null,
   "metadata": {},
   "outputs": [
    {
     "name": "stdout",
     "output_type": "stream",
     "text": [
      "Even number = 1\n",
      "Even number = 3\n",
      "Even number = 5\n",
      "Even number = 7\n",
      "Even number = 9\n"
     ]
    }
   ],
   "source": [
    "#9.WAP to print the odd number until nth times by using a while loop.\n",
    "a = int(input(\"Enter a number\"))\n",
    "i = 1\n",
    "while i <= a : \n",
    "    if not(i%2 == 0) :\n",
    "        print(\"Odd number =\",i)\n",
    "    i += 1"
   ]
  },
  {
   "cell_type": "code",
   "execution_count": null,
   "metadata": {},
   "outputs": [
    {
     "name": "stdout",
     "output_type": "stream",
     "text": [
      "1\n",
      "3\n",
      "5\n",
      "7\n",
      "9\n",
      "11\n",
      "13\n",
      "15\n",
      "17\n",
      "19\n"
     ]
    }
   ],
   "source": [
    "#9.WAP to print the odd number until nth times by using recursion.\n",
    "def odd_number(s,n):\n",
    "    if s == n+1 :\n",
    "        return\n",
    "    print(s)\n",
    "    odd_number(s+2,n)\n",
    "odd_number(1,20)"
   ]
  },
  {
   "cell_type": "code",
   "execution_count": null,
   "metadata": {},
   "outputs": [
    {
     "name": "stdout",
     "output_type": "stream",
     "text": [
      "Odd number = 1\n",
      "Odd number = 3\n",
      "Odd number = 5\n",
      "Odd number = 7\n",
      "Odd number = 9\n",
      "Odd number = 11\n"
     ]
    }
   ],
   "source": [
    "#10. WAP to print reserve the odd number until nth times by using a while loop.\n",
    "a = int(input(\"Enter a number\"))\n",
    "i = 1\n",
    "while i <= a : \n",
    "    if not(i%2 == 0) :\n",
    "        print(\"Odd number =\",i)\n",
    "    i += 1"
   ]
  },
  {
   "cell_type": "code",
   "execution_count": null,
   "metadata": {},
   "outputs": [
    {
     "name": "stdout",
     "output_type": "stream",
     "text": [
      "odd number = 9\n",
      "odd number = 7\n",
      "odd number = 5\n",
      "odd number = 3\n",
      "odd number = 1\n"
     ]
    }
   ],
   "source": [
    "#10.WAP to print the odd number in reverse until nth times by using recursion.\n",
    "def odd_numbers(s,e):\n",
    "    if s == e-1:\n",
    "        return\n",
    "    if s%2 != 0:\n",
    "        print(\"odd number =\",s)\n",
    "    odd_numbers(s-1,e)\n",
    "odd_numbers(10,1)"
   ]
  },
  {
   "cell_type": "code",
   "execution_count": null,
   "metadata": {},
   "outputs": [
    {
     "name": "stdout",
     "output_type": "stream",
     "text": [
      "20 * 1 = 20\n",
      "20 * 2 = 40\n",
      "20 * 3 = 60\n",
      "20 * 4 = 80\n",
      "20 * 5 = 100\n",
      "20 * 6 = 120\n",
      "20 * 7 = 140\n",
      "20 * 8 = 160\n",
      "20 * 9 = 180\n",
      "20 * 10 = 200\n",
      "20 * 11 = 220\n",
      "20 * 12 = 240\n",
      "20 * 13 = 260\n",
      "20 * 14 = 280\n",
      "20 * 15 = 300\n",
      "20 * 16 = 320\n",
      "20 * 17 = 340\n",
      "20 * 18 = 360\n",
      "20 * 19 = 380\n",
      "20 * 20 = 400\n"
     ]
    }
   ],
   "source": [
    "#11.WAP to print the nth table 1 to 20, format ==&gt;     5 * 1 = 5 to 5 * 20 = 100\n",
    "a = 20\n",
    "i = 1 \n",
    "while i <= a:\n",
    "    print(a,\"*\",i,\"=\",a*i)\n",
    "    i += 1\n"
   ]
  },
  {
   "cell_type": "code",
   "execution_count": null,
   "metadata": {},
   "outputs": [
    {
     "name": "stdout",
     "output_type": "stream",
     "text": [
      "5 * 1 = 5\n",
      "5 * 2 = 10\n",
      "5 * 3 = 15\n",
      "5 * 4 = 20\n",
      "5 * 5 = 25\n",
      "5 * 6 = 30\n",
      "5 * 7 = 35\n",
      "5 * 8 = 40\n",
      "5 * 9 = 45\n",
      "5 * 10 = 50\n"
     ]
    }
   ],
   "source": [
    "#11.WAP to print the nth table 1 to 20, format ==&gt;     5 * 1 = 5 to 5 * 20 = 100 using recursion.\n",
    "def table(n,s,e):\n",
    "    if s == e+1 :\n",
    "        return\n",
    "    print(n,\"*\",s,\"=\",5*s)\n",
    "    table(5,s+1,e)\n",
    "table(5,1,10)"
   ]
  },
  {
   "cell_type": "code",
   "execution_count": 4,
   "metadata": {},
   "outputs": [
    {
     "name": "stdout",
     "output_type": "stream",
     "text": [
      "10 * 10 = 100\n",
      "10 * 9 = 90\n",
      "10 * 8 = 80\n",
      "10 * 7 = 70\n",
      "10 * 6 = 60\n",
      "10 * 5 = 50\n",
      "10 * 4 = 40\n",
      "10 * 3 = 30\n",
      "10 * 2 = 20\n",
      "10 * 1 = 10\n"
     ]
    }
   ],
   "source": [
    "#12. WAP to print the nth table 20 to 1, format ==> 5 * 20 = 100 to 5 * 1 = 5 using while loop.\n",
    "a = 1\n",
    "i = 10 \n",
    "while i >= a:\n",
    "    print(10,\"*\",i,\"=\",10*i)\n",
    "    i -= 1"
   ]
  },
  {
   "cell_type": "code",
   "execution_count": null,
   "metadata": {},
   "outputs": [
    {
     "name": "stdout",
     "output_type": "stream",
     "text": [
      "5 * 10 = 50\n",
      "5 * 9 = 45\n",
      "5 * 8 = 40\n",
      "5 * 7 = 35\n",
      "5 * 6 = 30\n",
      "5 * 5 = 25\n",
      "5 * 4 = 20\n",
      "5 * 3 = 15\n",
      "5 * 2 = 10\n",
      "5 * 1 = 5\n"
     ]
    }
   ],
   "source": [
    "#12. WAP to print the nth table 20 to 1, format ==> 5 * 20 = 100 to 5 * 1 = 5 using recursion \n",
    "def table(n,s,e):\n",
    "    if s == e-1 :\n",
    "        return\n",
    "    print(n,\"*\",s,\"=\",5*s)\n",
    "    table(5,s-1,e)\n",
    "table(5,10,1)\n"
   ]
  },
  {
   "cell_type": "code",
   "execution_count": 10,
   "metadata": {},
   "outputs": [
    {
     "name": "stdout",
     "output_type": "stream",
     "text": [
      "27 30 33 36 39 42 45 48 51 54 57 60 63 66 "
     ]
    }
   ],
   "source": [
    "#13. WAP to print the numbers which are divisible by 3 from 25 to 66 using while loop.\n",
    "s = 25\n",
    "e = 66\n",
    "while s <= e :\n",
    "    if s%3 == 0 :\n",
    "        print(s,end=\" \")\n",
    "    s+=1"
   ]
  },
  {
   "cell_type": "code",
   "execution_count": 8,
   "metadata": {},
   "outputs": [
    {
     "name": "stdout",
     "output_type": "stream",
     "text": [
      "27 30 33 36 39 42 45 48 51 54 57 60 63 66 "
     ]
    }
   ],
   "source": [
    "#13. WAP to print the numbers which are divisible by 3 from 25 to 66 using recurison\n",
    "def divisible(s,e):\n",
    "    if s == e+1:\n",
    "        return\n",
    "    if s%3 == 0:\n",
    "        print(s,end=\" \")\n",
    "    divisible(s+1,e)\n",
    "divisible(25,66)"
   ]
  },
  {
   "cell_type": "code",
   "execution_count": 13,
   "metadata": {},
   "outputs": [
    {
     "name": "stdout",
     "output_type": "stream",
     "text": [
      "15 30 45 60 75 "
     ]
    }
   ],
   "source": [
    "#14. WAP to print the numbers which are divisible by 3 and 5 from 15 to 76. \n",
    "s = 15\n",
    "e = 76\n",
    "while s <= e :\n",
    "    if s % 3 == 0 and s % 5 == 0 :\n",
    "        print(s,end=\" \")\n",
    "    s+=1"
   ]
  },
  {
   "cell_type": "code",
   "execution_count": 11,
   "metadata": {},
   "outputs": [
    {
     "name": "stdout",
     "output_type": "stream",
     "text": [
      "15 30 45 60 75 "
     ]
    }
   ],
   "source": [
    "#14. WAP to print the numbers which are divisible by 3 and 5 from 15 to 76 using recursion.\n",
    "def div(s,e):\n",
    "    if s == e+1:\n",
    "        return\n",
    "    if s%3 == 0 and s%5 == 0 :\n",
    "        print(s,end=\" \")\n",
    "    div(s+1,e)\n",
    "div(15,76)"
   ]
  },
  {
   "cell_type": "code",
   "execution_count": 16,
   "metadata": {},
   "outputs": [
    {
     "name": "stdout",
     "output_type": "stream",
     "text": [
      "70 35 "
     ]
    }
   ],
   "source": [
    "#15. WAP to print the numbers which are divisible by 5 and 7 from 77 to 22.\n",
    "s = 77\n",
    "e = 22\n",
    "while s >= e :\n",
    "    if s % 5 == 0 and s % 7 == 0 :\n",
    "        print(s,end=\" \")\n",
    "    s-=1"
   ]
  },
  {
   "cell_type": "code",
   "execution_count": 17,
   "metadata": {},
   "outputs": [
    {
     "name": "stdout",
     "output_type": "stream",
     "text": [
      "70 35 "
     ]
    }
   ],
   "source": [
    "#15. WAP to print the numbers which are divisible by 5 and 7 from 77 to 22 using recursion.\n",
    "def div(s,e):\n",
    "    if s == e-1:\n",
    "        return\n",
    "    if s%5 == 0 and s%7 == 0 :\n",
    "        print(s,end=\" \")\n",
    "    div(s-1,e)\n",
    "div(77,22)"
   ]
  },
  {
   "cell_type": "code",
   "execution_count": 23,
   "metadata": {},
   "outputs": [
    {
     "name": "stdout",
     "output_type": "stream",
     "text": [
      "I love you 3\n",
      "I hate you 5\n",
      "I love you 6\n",
      "I love you 9\n",
      "I hate you 10\n",
      "I love you 12\n",
      "I love you 15\n",
      "I love you 18\n",
      "I hate you 20\n",
      "I love you 21\n",
      "I love you 24\n",
      "I hate you 25\n",
      "I love you 27\n",
      "I love you 30\n"
     ]
    }
   ],
   "source": [
    "#16. WAP to print the ”love you” if value is divisible by 3, or print “hate you” value is\n",
    "#divisible by 5, to print “i like you” if divisible by 3 and 5, from 1 to 30.\n",
    "s = 1\n",
    "e = 30\n",
    "while s <= e:\n",
    "    if s%3 == 0:\n",
    "        print(\"I love you\",s)\n",
    "    if s%5 == 0 :\n",
    "        print(\"I hate you\",s)\n",
    "    if s%3 == 0 and s%5 == 0:\n",
    "        print(\"I like You\",s)\n",
    "    s+=1\n"
   ]
  },
  {
   "cell_type": "code",
   "execution_count": 26,
   "metadata": {},
   "outputs": [
    {
     "name": "stdout",
     "output_type": "stream",
     "text": [
      "Love you 3\n",
      "Hate you 5\n",
      "Love you 6\n",
      "Love you 9\n",
      "Hate you 10\n",
      "Love you 12\n",
      "Love you 15\n",
      "Hate you 15\n",
      "Like you 15\n",
      "Love you 18\n",
      "Hate you 20\n",
      "Love you 21\n",
      "Love you 24\n",
      "Hate you 25\n",
      "Love you 27\n",
      "Love you 30\n",
      "Hate you 30\n",
      "Like you 30\n"
     ]
    }
   ],
   "source": [
    "#16. WAP to print the ”love you” if value is divisible by 3, or print “hate you” value is\n",
    "#divisible by 5, to print “i like you” if divisible by 3 and 5, from 1 to 30 using recursion.\n",
    "def display(s,e):\n",
    "    if s == e+1 :\n",
    "        return\n",
    "    if s%3 == 0:\n",
    "        print(\"Love you\",s)\n",
    "    if s%5 == 0:\n",
    "        print(\"Hate you\",s)\n",
    "    if s%3 == 0 and s%5 == 0 :\n",
    "        print(\"Like you\",s)\n",
    "    display(s+1,e)\n",
    "display(1,30)"
   ]
  },
  {
   "cell_type": "code",
   "execution_count": 27,
   "metadata": {},
   "outputs": [
    {
     "name": "stdout",
     "output_type": "stream",
     "text": [
      "55\n"
     ]
    }
   ],
   "source": [
    "#17. WAP to print sum of the 1 to nth natural numbers.\n",
    "s = 1\n",
    "e = 10\n",
    "sum = 0\n",
    "while s<= e:\n",
    "    sum+=s\n",
    "    s+=1\n",
    "print(sum)\n"
   ]
  },
  {
   "cell_type": "code",
   "execution_count": 46,
   "metadata": {},
   "outputs": [
    {
     "name": "stdout",
     "output_type": "stream",
     "text": [
      "55\n"
     ]
    }
   ],
   "source": [
    "#17. WAP to print sum of the 1 to nth natural numbers using recursion.\n",
    "def sum(s,e,total):\n",
    "    if s == e+1:\n",
    "        print(total)\n",
    "        return\n",
    "    sum(s+1,e,total+s)\n",
    "sum(1,10,0)\n"
   ]
  },
  {
   "cell_type": "code",
   "execution_count": 47,
   "metadata": {},
   "outputs": [
    {
     "name": "stdout",
     "output_type": "stream",
     "text": [
      "0\n",
      "2\n",
      "6\n",
      "12\n",
      "20\n",
      "30\n",
      "42\n",
      "56\n",
      "72\n",
      "90\n",
      "110\n",
      "110\n"
     ]
    }
   ],
   "source": [
    "#18. WAP to print sum of the even numbers 1 to 20 numbers.\n",
    "s = 0 \n",
    "e = 20\n",
    "sum = 0\n",
    "while s <= e:\n",
    "    if s%2 == 0:\n",
    "        sum += s\n",
    "        print(sum)\n",
    "    s+=1\n",
    "print(sum)"
   ]
  },
  {
   "cell_type": "code",
   "execution_count": 65,
   "metadata": {},
   "outputs": [
    {
     "name": "stdout",
     "output_type": "stream",
     "text": [
      "110\n"
     ]
    }
   ],
   "source": [
    "#18. WAP to print sum of the even numbers 1 to 20 numbers using recurison \n",
    "def even_sum(s,e,total):\n",
    "    if s == e+1:\n",
    "        print(total)\n",
    "        return\n",
    "    if s%2 == 0 :\n",
    "        total+=s\n",
    "    even_sum(s+1,e,total)\n",
    "even_sum(1,20,0)"
   ]
  },
  {
   "cell_type": "code",
   "execution_count": 49,
   "metadata": {},
   "outputs": [
    {
     "name": "stdout",
     "output_type": "stream",
     "text": [
      "21\n"
     ]
    }
   ],
   "source": [
    "#19. WAP to print products of the 1 to 6 numbers.\n",
    "s = 1\n",
    "e = 6\n",
    "sum = 0\n",
    "while s <= e :\n",
    "    sum += s\n",
    "    s+=1\n",
    "print(sum)\n"
   ]
  },
  {
   "cell_type": "code",
   "execution_count": 75,
   "metadata": {},
   "outputs": [
    {
     "data": {
      "text/plain": [
       "720"
      ]
     },
     "execution_count": 75,
     "metadata": {},
     "output_type": "execute_result"
    }
   ],
   "source": [
    "#19. WAP to print products of the 1 to 6 numbers using recursion.\n",
    "def addition(s,e,total):\n",
    "    if s == e+1:\n",
    "        print(total)\n",
    "        return\n",
    "    total*=s\n",
    "    addition(s+1,e,total)\n",
    "addition(1,6,1)"
   ]
  },
  {
   "cell_type": "code",
   "execution_count": 52,
   "metadata": {},
   "outputs": [
    {
     "name": "stdout",
     "output_type": "stream",
     "text": [
      "15\n"
     ]
    }
   ],
   "source": [
    "#20. WAP to count the no of odd values from 1 to 30 numbers.\n",
    "s = 0 \n",
    "e = 30\n",
    "count = 0\n",
    "while s <= e:\n",
    "    if s%2 != 0:\n",
    "        count+=1\n",
    "    s+=1\n",
    "print(count)"
   ]
  },
  {
   "cell_type": "code",
   "execution_count": 55,
   "metadata": {},
   "outputs": [
    {
     "name": "stdout",
     "output_type": "stream",
     "text": [
      "15\n"
     ]
    }
   ],
   "source": [
    "#20. WAP to count the no of odd values from 1 to 30 numbers using recursion.\n",
    "def count(s,e,t):\n",
    "    if s == e+1:\n",
    "        print(t)\n",
    "        return\n",
    "    if s%2 != 0 :\n",
    "        t+=1\n",
    "    count(s+1,e,t)\n",
    "count(1,30,0)"
   ]
  },
  {
   "cell_type": "code",
   "execution_count": 57,
   "metadata": {},
   "outputs": [
    {
     "name": "stdout",
     "output_type": "stream",
     "text": [
      "1\n",
      "2\n",
      "4\n",
      "5\n",
      "10\n",
      "20\n"
     ]
    }
   ],
   "source": [
    "#21. WAP to print the factors of the given number.\n",
    "num = 20\n",
    "s = 1\n",
    "while s <= num:\n",
    "    if num%s == 0:\n",
    "        print(s)\n",
    "    s+=1"
   ]
  },
  {
   "cell_type": "code",
   "execution_count": 59,
   "metadata": {},
   "outputs": [
    {
     "name": "stdout",
     "output_type": "stream",
     "text": [
      "Factor = 1\n",
      "Factor = 2\n",
      "Factor = 4\n",
      "Factor = 5\n",
      "Factor = 10\n",
      "Factor = 20\n"
     ]
    }
   ],
   "source": [
    "#21. WAP to print the factors of the given number recursion.\n",
    "def factors(s,num):\n",
    "    if s == num+1:\n",
    "        return \n",
    "    if num%s == 0:\n",
    "        print(\"Factor =\",s)\n",
    "    factors(s+1,num)\n",
    "factors(1,20)"
   ]
  },
  {
   "cell_type": "code",
   "execution_count": 77,
   "metadata": {},
   "outputs": [
    {
     "name": "stdout",
     "output_type": "stream",
     "text": [
      "1\n",
      "2\n",
      "4\n",
      "5\n",
      "10\n",
      "20\n",
      "42\n"
     ]
    }
   ],
   "source": [
    "#22. WAP to sum of the factors of the given number.\n",
    "num = 20\n",
    "s = 1\n",
    "sum = 0\n",
    "while s <= num:\n",
    "    if num%s == 0:\n",
    "        print(s)\n",
    "        sum+=s\n",
    "    s+=1\n",
    "print(sum)"
   ]
  },
  {
   "cell_type": "code",
   "execution_count": 78,
   "metadata": {},
   "outputs": [
    {
     "name": "stdout",
     "output_type": "stream",
     "text": [
      "Factor = 1\n",
      "Factor = 2\n",
      "Factor = 4\n",
      "Factor = 5\n",
      "Factor = 10\n",
      "Factor = 20\n",
      "42\n"
     ]
    }
   ],
   "source": [
    "#22. WAP to sum of the factors of the given number using recursion.\n",
    "def factors(s,num,sum):\n",
    "    if s == num+1:\n",
    "        return \n",
    "    if num%s == 0:\n",
    "        print(\"Factor =\",s)\n",
    "    sum+=s\n",
    "    factors(s+1,num,sum)\n",
    "factors(1,20,0)\n",
    "print(sum)"
   ]
  },
  {
   "cell_type": "code",
   "execution_count": 80,
   "metadata": {},
   "outputs": [
    {
     "name": "stdout",
     "output_type": "stream",
     "text": [
      "1\n",
      "2\n",
      "4\n",
      "5\n",
      "10\n",
      "20\n",
      "8000\n"
     ]
    }
   ],
   "source": [
    "#23. WAP to prod of the factors of the given number.\n",
    "num = 20\n",
    "s = 1\n",
    "sum = 1\n",
    "while s <= num:\n",
    "    if num%s == 0:\n",
    "        print(s)\n",
    "        sum*=s\n",
    "    s+=1\n",
    "print(sum)"
   ]
  },
  {
   "cell_type": "code",
   "execution_count": null,
   "metadata": {},
   "outputs": [],
   "source": [
    "#23. WAP to prod of the factors of the given number using recursion.\n",
    "def factors(s,num,sum):\n",
    "    if s == num+1:\n",
    "        return \n",
    "    if num%s == 0:\n",
    "        print(\"Factor =\",s)\n",
    "    sum*=s\n",
    "    factors(s+1,num,sum)\n",
    "factors(1,20,0)\n",
    "print(sum)"
   ]
  },
  {
   "cell_type": "code",
   "execution_count": 4,
   "metadata": {},
   "outputs": [
    {
     "name": "stdout",
     "output_type": "stream",
     "text": [
      "1\n",
      "2\n",
      "3\n",
      "5\n",
      "8\n",
      "13\n",
      "21\n",
      "34\n",
      "55\n",
      "89\n"
     ]
    }
   ],
   "source": [
    "#24. WAP to print Fibonacci series 0 to nth.\n",
    "start = 1\n",
    "a = 0\n",
    "b = 1\n",
    "end = int(input())\n",
    "x = 0\n",
    "while start <= end :\n",
    "    x = a+b\n",
    "    a = b\n",
    "    b = x\n",
    "    print(x)\n",
    "    start+=1"
   ]
  },
  {
   "cell_type": "code",
   "execution_count": 6,
   "metadata": {},
   "outputs": [
    {
     "name": "stdout",
     "output_type": "stream",
     "text": [
      "1\n",
      "2\n",
      "3\n",
      "5\n",
      "8\n",
      "13\n",
      "21\n",
      "34\n",
      "55\n",
      "89\n"
     ]
    }
   ],
   "source": [
    "def fib(s,e,b,sum=0,a=0):\n",
    "    if s == e+1:\n",
    "        return\n",
    "    sum = a+b\n",
    "    a = b\n",
    "    b = sum\n",
    "    print(sum)\n",
    "    fib(s+1,e,b,sum,a)\n",
    "fib(1,10,1)"
   ]
  },
  {
   "cell_type": "code",
   "execution_count": 8,
   "metadata": {},
   "outputs": [
    {
     "name": "stdout",
     "output_type": "stream",
     "text": [
      "6\n"
     ]
    }
   ],
   "source": [
    "#25. WAP to find out the factorial number of a given number.\n",
    "x = int(input(\"Enter a number =\"))\n",
    "s = 1\n",
    "fact = 1\n",
    "while s<=x:\n",
    "    fact*=s\n",
    "    s+=1\n",
    "print(fact)\n"
   ]
  },
  {
   "cell_type": "code",
   "execution_count": 14,
   "metadata": {},
   "outputs": [
    {
     "name": "stdout",
     "output_type": "stream",
     "text": [
      "6\n"
     ]
    }
   ],
   "source": [
    "#25. WAP to find out the factorial number of a given number using recursion.\n",
    "def fact(s,e,prod):\n",
    "    if s == e+1:\n",
    "        print(prod)\n",
    "        return\n",
    "    prod*=s\n",
    "    fact(s+1,e,prod)\n",
    "fact(1,3,1)"
   ]
  },
  {
   "cell_type": "code",
   "execution_count": null,
   "metadata": {},
   "outputs": [],
   "source": [
    "#26. WAP to print the factorial numbers in the given range m to n."
   ]
  },
  {
   "cell_type": "code",
   "execution_count": 1,
   "metadata": {},
   "outputs": [
    {
     "ename": "IndentationError",
     "evalue": "expected an indented block after 'if' statement on line 9 (658173008.py, line 10)",
     "output_type": "error",
     "traceback": [
      "\u001b[1;36m  Cell \u001b[1;32mIn[1], line 10\u001b[1;36m\u001b[0m\n\u001b[1;33m    print(10)\u001b[0m\n\u001b[1;37m             ^\u001b[0m\n\u001b[1;31mIndentationError\u001b[0m\u001b[1;31m:\u001b[0m expected an indented block after 'if' statement on line 9\n"
     ]
    }
   ],
   "source": [
    "#27. WAP to check whether a given number is a prime number or not.\n",
    "x = int(input(\"Enter a number =\"))\n",
    "s = 1\n",
    "count = 0\n",
    "while s <= x :\n",
    "    if x%s == 0 :\n",
    "        count+=1\n",
    "        s+=1\n",
    "    if count == 2:\n",
    "print(10)\n"
   ]
  },
  {
   "cell_type": "code",
   "execution_count": null,
   "metadata": {},
   "outputs": [],
   "source": [
    "#28. WAP to print the prime numbers in the given range m to n."
   ]
  },
  {
   "cell_type": "code",
   "execution_count": 31,
   "metadata": {},
   "outputs": [
    {
     "name": "stdout",
     "output_type": "stream",
     "text": [
      "Amstrong number = 153\n"
     ]
    }
   ],
   "source": [
    "#29. WAP to check whether a given number is an armstrong number or not.\n",
    "x = 153\n",
    "y = str(x)\n",
    "i = 0\n",
    "sum = 0\n",
    "while  i < len(y):\n",
    "    sum += int(y[i]) ** len(y)\n",
    "    i+=1\n",
    "\n",
    "if sum == x:\n",
    "    print(\"Amstrong number =\",x)\n",
    "else:\n",
    "    print(\"Not amstrong number =\",x)\n"
   ]
  },
  {
   "cell_type": "code",
   "execution_count": null,
   "metadata": {},
   "outputs": [],
   "source": [
    "#30. WAP to print the armstrong numbers in the given range m to n.\n",
    "start = 0\n",
    "end = 2500\n",
    "x = 153\n",
    "y = str(x)\n",
    "i = 0\n",
    "sum = 0\n",
    "while  i < len(y):\n",
    "    sum += int(y[i]) ** len(y)\n",
    "    i+=1\n",
    "\n",
    "if sum == x:\n",
    "    print(\"Amstrong number =\",x)\n",
    "else:\n",
    "    print(\"Not amstrong number =\",x)"
   ]
  },
  {
   "cell_type": "code",
   "execution_count": null,
   "metadata": {},
   "outputs": [
    {
     "ename": "KeyboardInterrupt",
     "evalue": "",
     "output_type": "error",
     "traceback": [
      "\u001b[1;31m---------------------------------------------------------------------------\u001b[0m",
      "\u001b[1;31mKeyboardInterrupt\u001b[0m                         Traceback (most recent call last)",
      "Cell \u001b[1;32mIn[12], line 5\u001b[0m\n\u001b[0;32m      3\u001b[0m s \u001b[39m=\u001b[39m \u001b[39m0\u001b[39m\n\u001b[0;32m      4\u001b[0m res \u001b[39m=\u001b[39m \u001b[39m\"\u001b[39m\u001b[39m\"\u001b[39m\n\u001b[1;32m----> 5\u001b[0m \u001b[39mwhile\u001b[39;00m s \u001b[39m<\u001b[39m \u001b[39mlen\u001b[39m(\u001b[39mstr\u001b[39m):\n\u001b[0;32m      6\u001b[0m     \u001b[39mif\u001b[39;00m \u001b[39m\"\u001b[39m\u001b[39ma\u001b[39m\u001b[39m\"\u001b[39m\u001b[39m<\u001b[39m\u001b[39m=\u001b[39m \u001b[39mstr\u001b[39m[s] \u001b[39m<\u001b[39m\u001b[39m=\u001b[39m \u001b[39m\"\u001b[39m\u001b[39mz\u001b[39m\u001b[39m\"\u001b[39m:\n\u001b[0;32m      7\u001b[0m         res \u001b[39m+\u001b[39m\u001b[39m=\u001b[39m \u001b[39mchr\u001b[39m(\u001b[39mord\u001b[39m(\u001b[39mstr\u001b[39m[s]))\n",
      "\u001b[1;31mKeyboardInterrupt\u001b[0m: "
     ]
    }
   ],
   "source": [
    "#100. WAP to convert uppercase to lowercase in a given string.\n",
    "str = \"AbcdeFGhi\"\n",
    "s = 0\n",
    "res = \"\"\n",
    "while s < len(str):\n",
    "    if \"a\"<= str[s] <= \"z\":\n",
    "        res += chr(ord(str[s]))\n",
    "        s += 1\n",
    "    else:\n",
    "        res += str[s]\n",
    "print(res)\n"
   ]
  }
 ],
 "metadata": {
  "kernelspec": {
   "display_name": "Python 3",
   "language": "python",
   "name": "python3"
  },
  "language_info": {
   "codemirror_mode": {
    "name": "ipython",
    "version": 3
   },
   "file_extension": ".py",
   "mimetype": "text/x-python",
   "name": "python",
   "nbconvert_exporter": "python",
   "pygments_lexer": "ipython3",
   "version": "3.11.1"
  },
  "orig_nbformat": 4,
  "vscode": {
   "interpreter": {
    "hash": "875bcf332de9c2a2aaf00f60374e87b85b3e6db2370b8fd7ed9ed4f6acfde3c6"
   }
  }
 },
 "nbformat": 4,
 "nbformat_minor": 2
}
